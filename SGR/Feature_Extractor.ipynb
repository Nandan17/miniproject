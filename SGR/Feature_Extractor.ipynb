{
 "cells": [
  {
   "cell_type": "code",
   "execution_count": 1,
   "metadata": {},
   "outputs": [],
   "source": [
    "import numpy as np\n",
    "from sklearn import preprocessing\n",
    "from scipy.io.wavfile import read\n",
    "from python_speech_features import mfcc\n",
    "from python_speech_features import delta"
   ]
  },
  {
   "cell_type": "code",
   "execution_count": 2,
   "metadata": {},
   "outputs": [],
   "source": [
    "class FeaturesExtractor:\n",
    "    def __init__(self):\n",
    "        pass\n",
    "       \n",
    "    def extract_features(self, audio_path):\n",
    "        rate, audio  = read(audio_path)\n",
    "        mfcc_feature = mfcc(\n",
    "                            audio,\n",
    "                            rate,\n",
    "                            winlen       = 0.05,\n",
    "                            winstep      = 0.01,\n",
    "                            numcep       = 5,\n",
    "                            nfilt        = 30,\n",
    "                            nfft         = 512,\n",
    "                            appendEnergy = True)\n",
    "        mfcc_feature  = preprocessing.scale(mfcc_feature)\n",
    "        deltas        = delta(mfcc_feature, 2)\n",
    "        double_deltas = delta(deltas, 2)\n",
    "        combined      = np.hstack((mfcc_feature, deltas, double_deltas))\n",
    "        return combined"
   ]
  },
  {
   "cell_type": "code",
   "execution_count": 3,
   "metadata": {},
   "outputs": [],
   "source": [
    "from sklearn.metrics import confusion_matrix\n"
   ]
  },
  {
   "cell_type": "code",
   "execution_count": null,
   "metadata": {},
   "outputs": [],
   "source": []
  }
 ],
 "metadata": {
  "kernelspec": {
   "display_name": "Python 3",
   "language": "python",
   "name": "python3"
  },
  "language_info": {
   "codemirror_mode": {
    "name": "ipython",
    "version": 3
   },
   "file_extension": ".py",
   "mimetype": "text/x-python",
   "name": "python",
   "nbconvert_exporter": "python",
   "pygments_lexer": "ipython3",
   "version": "3.8.5"
  }
 },
 "nbformat": 4,
 "nbformat_minor": 4
}

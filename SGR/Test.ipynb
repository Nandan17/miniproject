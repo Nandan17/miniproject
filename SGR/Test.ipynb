{
 "cells": [
  {
   "cell_type": "code",
   "execution_count": 1,
   "metadata": {},
   "outputs": [],
   "source": [
    "import os\n",
    "import pickle\n",
    "import warnings\n",
    "import numpy as np\n",
    "from FeaturesExtractor import FeaturesExtractor"
   ]
  },
  {
   "cell_type": "code",
   "execution_count": 3,
   "metadata": {},
   "outputs": [],
   "source": [
    "warnings.filterwarnings(\"ignore\")"
   ]
  },
  {
   "cell_type": "code",
   "execution_count": 3,
   "metadata": {},
   "outputs": [],
   "source": [
    "y_pred=[]\n",
    "y_true=[]"
   ]
  },
  {
   "cell_type": "code",
   "execution_count": 4,
   "metadata": {},
   "outputs": [
    {
     "name": "stdout",
     "output_type": "stream",
     "text": [
      "--> TESTING        : FemaleSad38.wav\n",
      "+ FEMALE SCORE     : 449.598\n",
      "+ MALE SCORE       : -136.172\n",
      "+ EXPECTATION      : female\n",
      "+ IDENTIFICATION   : female\n",
      "----------------------------------------------------\n",
      "--> TESTING        : FemaleSad10.wav\n"
     ]
    },
    {
     "name": "stderr",
     "output_type": "stream",
     "text": [
      "/home/mukund/anaconda3/lib/python3.8/site-packages/sklearn/utils/deprecation.py:77: DeprecationWarning: Function log_multivariate_normal_density is deprecated; The function log_multivariate_normal_density is deprecated in 0.18 and will be removed in 0.20.\n",
      "  warnings.warn(msg, category=DeprecationWarning)\n",
      "/home/mukund/anaconda3/lib/python3.8/site-packages/sklearn/utils/deprecation.py:77: DeprecationWarning: Function log_multivariate_normal_density is deprecated; The function log_multivariate_normal_density is deprecated in 0.18 and will be removed in 0.20.\n",
      "  warnings.warn(msg, category=DeprecationWarning)\n",
      "/home/mukund/anaconda3/lib/python3.8/site-packages/sklearn/utils/deprecation.py:77: DeprecationWarning: Function log_multivariate_normal_density is deprecated; The function log_multivariate_normal_density is deprecated in 0.18 and will be removed in 0.20.\n",
      "  warnings.warn(msg, category=DeprecationWarning)\n",
      "/home/mukund/anaconda3/lib/python3.8/site-packages/sklearn/utils/deprecation.py:77: DeprecationWarning: Function log_multivariate_normal_density is deprecated; The function log_multivariate_normal_density is deprecated in 0.18 and will be removed in 0.20.\n",
      "  warnings.warn(msg, category=DeprecationWarning)\n"
     ]
    },
    {
     "name": "stdout",
     "output_type": "stream",
     "text": [
      "+ FEMALE SCORE     : 5464.398\n",
      "+ MALE SCORE       : 3590.905\n",
      "+ EXPECTATION      : female\n",
      "+ IDENTIFICATION   : female\n",
      "----------------------------------------------------\n",
      "--> TESTING        : FemaleSad53.wav\n"
     ]
    },
    {
     "name": "stderr",
     "output_type": "stream",
     "text": [
      "/home/mukund/anaconda3/lib/python3.8/site-packages/sklearn/utils/deprecation.py:77: DeprecationWarning: Function log_multivariate_normal_density is deprecated; The function log_multivariate_normal_density is deprecated in 0.18 and will be removed in 0.20.\n",
      "  warnings.warn(msg, category=DeprecationWarning)\n",
      "/home/mukund/anaconda3/lib/python3.8/site-packages/sklearn/utils/deprecation.py:77: DeprecationWarning: Function log_multivariate_normal_density is deprecated; The function log_multivariate_normal_density is deprecated in 0.18 and will be removed in 0.20.\n",
      "  warnings.warn(msg, category=DeprecationWarning)\n"
     ]
    },
    {
     "name": "stdout",
     "output_type": "stream",
     "text": [
      "+ FEMALE SCORE     : 151.916\n",
      "+ MALE SCORE       : -114.81\n",
      "+ EXPECTATION      : female\n",
      "+ IDENTIFICATION   : female\n",
      "----------------------------------------------------\n",
      "--> TESTING        : FemaleSad7.wav\n"
     ]
    },
    {
     "name": "stderr",
     "output_type": "stream",
     "text": [
      "/home/mukund/anaconda3/lib/python3.8/site-packages/sklearn/utils/deprecation.py:77: DeprecationWarning: Function log_multivariate_normal_density is deprecated; The function log_multivariate_normal_density is deprecated in 0.18 and will be removed in 0.20.\n",
      "  warnings.warn(msg, category=DeprecationWarning)\n",
      "/home/mukund/anaconda3/lib/python3.8/site-packages/sklearn/utils/deprecation.py:77: DeprecationWarning: Function log_multivariate_normal_density is deprecated; The function log_multivariate_normal_density is deprecated in 0.18 and will be removed in 0.20.\n",
      "  warnings.warn(msg, category=DeprecationWarning)\n",
      "/home/mukund/anaconda3/lib/python3.8/site-packages/sklearn/utils/deprecation.py:77: DeprecationWarning: Function log_multivariate_normal_density is deprecated; The function log_multivariate_normal_density is deprecated in 0.18 and will be removed in 0.20.\n",
      "  warnings.warn(msg, category=DeprecationWarning)\n",
      "/home/mukund/anaconda3/lib/python3.8/site-packages/sklearn/utils/deprecation.py:77: DeprecationWarning: Function log_multivariate_normal_density is deprecated; The function log_multivariate_normal_density is deprecated in 0.18 and will be removed in 0.20.\n",
      "  warnings.warn(msg, category=DeprecationWarning)\n"
     ]
    },
    {
     "name": "stdout",
     "output_type": "stream",
     "text": [
      "+ FEMALE SCORE     : 6414.094\n",
      "+ MALE SCORE       : 4181.318\n",
      "+ EXPECTATION      : female\n",
      "+ IDENTIFICATION   : female\n",
      "----------------------------------------------------\n",
      "--> TESTING        : FemaleSad29.wav\n",
      "+ FEMALE SCORE     : 1011.882\n",
      "+ MALE SCORE       : 770.7\n",
      "+ EXPECTATION      : female\n",
      "+ IDENTIFICATION   : female\n",
      "----------------------------------------------------\n",
      "--> TESTING        : FemaleSad40.wav\n"
     ]
    },
    {
     "name": "stderr",
     "output_type": "stream",
     "text": [
      "/home/mukund/anaconda3/lib/python3.8/site-packages/sklearn/utils/deprecation.py:77: DeprecationWarning: Function log_multivariate_normal_density is deprecated; The function log_multivariate_normal_density is deprecated in 0.18 and will be removed in 0.20.\n",
      "  warnings.warn(msg, category=DeprecationWarning)\n",
      "/home/mukund/anaconda3/lib/python3.8/site-packages/sklearn/utils/deprecation.py:77: DeprecationWarning: Function log_multivariate_normal_density is deprecated; The function log_multivariate_normal_density is deprecated in 0.18 and will be removed in 0.20.\n",
      "  warnings.warn(msg, category=DeprecationWarning)\n",
      "/home/mukund/anaconda3/lib/python3.8/site-packages/sklearn/utils/deprecation.py:77: DeprecationWarning: Function log_multivariate_normal_density is deprecated; The function log_multivariate_normal_density is deprecated in 0.18 and will be removed in 0.20.\n",
      "  warnings.warn(msg, category=DeprecationWarning)\n",
      "/home/mukund/anaconda3/lib/python3.8/site-packages/sklearn/utils/deprecation.py:77: DeprecationWarning: Function log_multivariate_normal_density is deprecated; The function log_multivariate_normal_density is deprecated in 0.18 and will be removed in 0.20.\n",
      "  warnings.warn(msg, category=DeprecationWarning)\n"
     ]
    },
    {
     "name": "stdout",
     "output_type": "stream",
     "text": [
      "+ FEMALE SCORE     : 619.39\n",
      "+ MALE SCORE       : -334.538\n",
      "+ EXPECTATION      : female\n",
      "+ IDENTIFICATION   : female\n",
      "----------------------------------------------------\n",
      "--> TESTING        : FemaleSad42.wav\n",
      "+ FEMALE SCORE     : 217.887\n",
      "+ MALE SCORE       : -312.459\n",
      "+ EXPECTATION      : female\n",
      "+ IDENTIFICATION   : female\n",
      "----------------------------------------------------\n",
      "--> TESTING        : FemaleSad14.wav\n"
     ]
    },
    {
     "name": "stderr",
     "output_type": "stream",
     "text": [
      "/home/mukund/anaconda3/lib/python3.8/site-packages/sklearn/utils/deprecation.py:77: DeprecationWarning: Function log_multivariate_normal_density is deprecated; The function log_multivariate_normal_density is deprecated in 0.18 and will be removed in 0.20.\n",
      "  warnings.warn(msg, category=DeprecationWarning)\n",
      "/home/mukund/anaconda3/lib/python3.8/site-packages/sklearn/utils/deprecation.py:77: DeprecationWarning: Function log_multivariate_normal_density is deprecated; The function log_multivariate_normal_density is deprecated in 0.18 and will be removed in 0.20.\n",
      "  warnings.warn(msg, category=DeprecationWarning)\n"
     ]
    },
    {
     "name": "stdout",
     "output_type": "stream",
     "text": [
      "+ FEMALE SCORE     : -50.769\n",
      "+ MALE SCORE       : -380.61\n",
      "+ EXPECTATION      : female\n",
      "+ IDENTIFICATION   : female\n",
      "----------------------------------------------------\n",
      "--> TESTING        : FemaleSad5.wav\n"
     ]
    },
    {
     "name": "stderr",
     "output_type": "stream",
     "text": [
      "/home/mukund/anaconda3/lib/python3.8/site-packages/sklearn/utils/deprecation.py:77: DeprecationWarning: Function log_multivariate_normal_density is deprecated; The function log_multivariate_normal_density is deprecated in 0.18 and will be removed in 0.20.\n",
      "  warnings.warn(msg, category=DeprecationWarning)\n",
      "/home/mukund/anaconda3/lib/python3.8/site-packages/sklearn/utils/deprecation.py:77: DeprecationWarning: Function log_multivariate_normal_density is deprecated; The function log_multivariate_normal_density is deprecated in 0.18 and will be removed in 0.20.\n",
      "  warnings.warn(msg, category=DeprecationWarning)\n",
      "/home/mukund/anaconda3/lib/python3.8/site-packages/sklearn/utils/deprecation.py:77: DeprecationWarning: Function log_multivariate_normal_density is deprecated; The function log_multivariate_normal_density is deprecated in 0.18 and will be removed in 0.20.\n",
      "  warnings.warn(msg, category=DeprecationWarning)\n",
      "/home/mukund/anaconda3/lib/python3.8/site-packages/sklearn/utils/deprecation.py:77: DeprecationWarning: Function log_multivariate_normal_density is deprecated; The function log_multivariate_normal_density is deprecated in 0.18 and will be removed in 0.20.\n",
      "  warnings.warn(msg, category=DeprecationWarning)\n"
     ]
    },
    {
     "name": "stdout",
     "output_type": "stream",
     "text": [
      "+ FEMALE SCORE     : 5528.575\n",
      "+ MALE SCORE       : 3866.241\n",
      "+ EXPECTATION      : female\n",
      "+ IDENTIFICATION   : female\n",
      "----------------------------------------------------\n",
      "--> TESTING        : FemaleSad20.wav\n",
      "+ FEMALE SCORE     : -168.845\n",
      "+ MALE SCORE       : -463.501\n",
      "+ EXPECTATION      : female\n",
      "+ IDENTIFICATION   : female\n",
      "----------------------------------------------------\n",
      "--> TESTING        : FemaleSad11.wav\n"
     ]
    },
    {
     "name": "stderr",
     "output_type": "stream",
     "text": [
      "/home/mukund/anaconda3/lib/python3.8/site-packages/sklearn/utils/deprecation.py:77: DeprecationWarning: Function log_multivariate_normal_density is deprecated; The function log_multivariate_normal_density is deprecated in 0.18 and will be removed in 0.20.\n",
      "  warnings.warn(msg, category=DeprecationWarning)\n",
      "/home/mukund/anaconda3/lib/python3.8/site-packages/sklearn/utils/deprecation.py:77: DeprecationWarning: Function log_multivariate_normal_density is deprecated; The function log_multivariate_normal_density is deprecated in 0.18 and will be removed in 0.20.\n",
      "  warnings.warn(msg, category=DeprecationWarning)\n"
     ]
    },
    {
     "name": "stdout",
     "output_type": "stream",
     "text": [
      "+ FEMALE SCORE     : 8683.404\n",
      "+ MALE SCORE       : 5440.646\n",
      "+ EXPECTATION      : female\n",
      "+ IDENTIFICATION   : female\n",
      "----------------------------------------------------\n",
      "--> TESTING        : FemaleSad8.wav\n"
     ]
    },
    {
     "name": "stderr",
     "output_type": "stream",
     "text": [
      "/home/mukund/anaconda3/lib/python3.8/site-packages/sklearn/utils/deprecation.py:77: DeprecationWarning: Function log_multivariate_normal_density is deprecated; The function log_multivariate_normal_density is deprecated in 0.18 and will be removed in 0.20.\n",
      "  warnings.warn(msg, category=DeprecationWarning)\n",
      "/home/mukund/anaconda3/lib/python3.8/site-packages/sklearn/utils/deprecation.py:77: DeprecationWarning: Function log_multivariate_normal_density is deprecated; The function log_multivariate_normal_density is deprecated in 0.18 and will be removed in 0.20.\n",
      "  warnings.warn(msg, category=DeprecationWarning)\n",
      "/home/mukund/anaconda3/lib/python3.8/site-packages/sklearn/utils/deprecation.py:77: DeprecationWarning: Function log_multivariate_normal_density is deprecated; The function log_multivariate_normal_density is deprecated in 0.18 and will be removed in 0.20.\n",
      "  warnings.warn(msg, category=DeprecationWarning)\n",
      "/home/mukund/anaconda3/lib/python3.8/site-packages/sklearn/utils/deprecation.py:77: DeprecationWarning: Function log_multivariate_normal_density is deprecated; The function log_multivariate_normal_density is deprecated in 0.18 and will be removed in 0.20.\n",
      "  warnings.warn(msg, category=DeprecationWarning)\n"
     ]
    },
    {
     "name": "stdout",
     "output_type": "stream",
     "text": [
      "+ FEMALE SCORE     : 6508.873\n",
      "+ MALE SCORE       : 4191.655\n",
      "+ EXPECTATION      : female\n",
      "+ IDENTIFICATION   : female\n",
      "----------------------------------------------------\n",
      "--> TESTING        : FemaleSad17.wav\n",
      "+ FEMALE SCORE     : -375.556\n",
      "+ MALE SCORE       : -695.459\n",
      "+ EXPECTATION      : female\n",
      "+ IDENTIFICATION   : female\n",
      "----------------------------------------------------\n",
      "--> TESTING        : FemaleSad30.wav\n"
     ]
    },
    {
     "name": "stderr",
     "output_type": "stream",
     "text": [
      "/home/mukund/anaconda3/lib/python3.8/site-packages/sklearn/utils/deprecation.py:77: DeprecationWarning: Function log_multivariate_normal_density is deprecated; The function log_multivariate_normal_density is deprecated in 0.18 and will be removed in 0.20.\n",
      "  warnings.warn(msg, category=DeprecationWarning)\n",
      "/home/mukund/anaconda3/lib/python3.8/site-packages/sklearn/utils/deprecation.py:77: DeprecationWarning: Function log_multivariate_normal_density is deprecated; The function log_multivariate_normal_density is deprecated in 0.18 and will be removed in 0.20.\n",
      "  warnings.warn(msg, category=DeprecationWarning)\n",
      "/home/mukund/anaconda3/lib/python3.8/site-packages/sklearn/utils/deprecation.py:77: DeprecationWarning: Function log_multivariate_normal_density is deprecated; The function log_multivariate_normal_density is deprecated in 0.18 and will be removed in 0.20.\n",
      "  warnings.warn(msg, category=DeprecationWarning)\n",
      "/home/mukund/anaconda3/lib/python3.8/site-packages/sklearn/utils/deprecation.py:77: DeprecationWarning: Function log_multivariate_normal_density is deprecated; The function log_multivariate_normal_density is deprecated in 0.18 and will be removed in 0.20.\n",
      "  warnings.warn(msg, category=DeprecationWarning)\n",
      "/home/mukund/anaconda3/lib/python3.8/site-packages/sklearn/utils/deprecation.py:77: DeprecationWarning: Function log_multivariate_normal_density is deprecated; The function log_multivariate_normal_density is deprecated in 0.18 and will be removed in 0.20.\n",
      "  warnings.warn(msg, category=DeprecationWarning)\n",
      "/home/mukund/anaconda3/lib/python3.8/site-packages/sklearn/utils/deprecation.py:77: DeprecationWarning: Function log_multivariate_normal_density is deprecated; The function log_multivariate_normal_density is deprecated in 0.18 and will be removed in 0.20.\n",
      "  warnings.warn(msg, category=DeprecationWarning)\n"
     ]
    },
    {
     "name": "stdout",
     "output_type": "stream",
     "text": [
      "+ FEMALE SCORE     : 237.921\n",
      "+ MALE SCORE       : 56.873\n",
      "+ EXPECTATION      : female\n",
      "+ IDENTIFICATION   : female\n",
      "----------------------------------------------------\n",
      "--> TESTING        : FemaleSad18.wav\n",
      "+ FEMALE SCORE     : -215.456\n",
      "+ MALE SCORE       : -382.982\n",
      "+ EXPECTATION      : female\n",
      "+ IDENTIFICATION   : female\n",
      "----------------------------------------------------\n",
      "--> TESTING        : FemaleSad41.wav\n",
      "+ FEMALE SCORE     : 492.887\n",
      "+ MALE SCORE       : 23.595\n",
      "+ EXPECTATION      : female\n",
      "+ IDENTIFICATION   : female\n",
      "----------------------------------------------------\n",
      "--> TESTING        : FemaleSad27.wav\n"
     ]
    },
    {
     "name": "stderr",
     "output_type": "stream",
     "text": [
      "/home/mukund/anaconda3/lib/python3.8/site-packages/sklearn/utils/deprecation.py:77: DeprecationWarning: Function log_multivariate_normal_density is deprecated; The function log_multivariate_normal_density is deprecated in 0.18 and will be removed in 0.20.\n",
      "  warnings.warn(msg, category=DeprecationWarning)\n",
      "/home/mukund/anaconda3/lib/python3.8/site-packages/sklearn/utils/deprecation.py:77: DeprecationWarning: Function log_multivariate_normal_density is deprecated; The function log_multivariate_normal_density is deprecated in 0.18 and will be removed in 0.20.\n",
      "  warnings.warn(msg, category=DeprecationWarning)\n"
     ]
    },
    {
     "name": "stdout",
     "output_type": "stream",
     "text": [
      "+ FEMALE SCORE     : 1156.435\n",
      "+ MALE SCORE       : 707.858\n",
      "+ EXPECTATION      : female\n",
      "+ IDENTIFICATION   : female\n",
      "----------------------------------------------------\n",
      "--> TESTING        : FemaleSad6.wav\n"
     ]
    },
    {
     "name": "stderr",
     "output_type": "stream",
     "text": [
      "/home/mukund/anaconda3/lib/python3.8/site-packages/sklearn/utils/deprecation.py:77: DeprecationWarning: Function log_multivariate_normal_density is deprecated; The function log_multivariate_normal_density is deprecated in 0.18 and will be removed in 0.20.\n",
      "  warnings.warn(msg, category=DeprecationWarning)\n",
      "/home/mukund/anaconda3/lib/python3.8/site-packages/sklearn/utils/deprecation.py:77: DeprecationWarning: Function log_multivariate_normal_density is deprecated; The function log_multivariate_normal_density is deprecated in 0.18 and will be removed in 0.20.\n",
      "  warnings.warn(msg, category=DeprecationWarning)\n",
      "/home/mukund/anaconda3/lib/python3.8/site-packages/sklearn/utils/deprecation.py:77: DeprecationWarning: Function log_multivariate_normal_density is deprecated; The function log_multivariate_normal_density is deprecated in 0.18 and will be removed in 0.20.\n",
      "  warnings.warn(msg, category=DeprecationWarning)\n",
      "/home/mukund/anaconda3/lib/python3.8/site-packages/sklearn/utils/deprecation.py:77: DeprecationWarning: Function log_multivariate_normal_density is deprecated; The function log_multivariate_normal_density is deprecated in 0.18 and will be removed in 0.20.\n",
      "  warnings.warn(msg, category=DeprecationWarning)\n"
     ]
    },
    {
     "name": "stdout",
     "output_type": "stream",
     "text": [
      "+ FEMALE SCORE     : 5233.742\n",
      "+ MALE SCORE       : 3943.145\n",
      "+ EXPECTATION      : female\n",
      "+ IDENTIFICATION   : female\n",
      "----------------------------------------------------\n",
      "--> TESTING        : FemaleSad22.wav\n",
      "+ FEMALE SCORE     : -359.546\n",
      "+ MALE SCORE       : -1002.173\n",
      "+ EXPECTATION      : female\n",
      "+ IDENTIFICATION   : female\n",
      "----------------------------------------------------\n",
      "--> TESTING        : FemaleSad25.wav\n"
     ]
    },
    {
     "name": "stderr",
     "output_type": "stream",
     "text": [
      "/home/mukund/anaconda3/lib/python3.8/site-packages/sklearn/utils/deprecation.py:77: DeprecationWarning: Function log_multivariate_normal_density is deprecated; The function log_multivariate_normal_density is deprecated in 0.18 and will be removed in 0.20.\n",
      "  warnings.warn(msg, category=DeprecationWarning)\n",
      "/home/mukund/anaconda3/lib/python3.8/site-packages/sklearn/utils/deprecation.py:77: DeprecationWarning: Function log_multivariate_normal_density is deprecated; The function log_multivariate_normal_density is deprecated in 0.18 and will be removed in 0.20.\n",
      "  warnings.warn(msg, category=DeprecationWarning)\n",
      "/home/mukund/anaconda3/lib/python3.8/site-packages/sklearn/utils/deprecation.py:77: DeprecationWarning: Function log_multivariate_normal_density is deprecated; The function log_multivariate_normal_density is deprecated in 0.18 and will be removed in 0.20.\n",
      "  warnings.warn(msg, category=DeprecationWarning)\n",
      "/home/mukund/anaconda3/lib/python3.8/site-packages/sklearn/utils/deprecation.py:77: DeprecationWarning: Function log_multivariate_normal_density is deprecated; The function log_multivariate_normal_density is deprecated in 0.18 and will be removed in 0.20.\n",
      "  warnings.warn(msg, category=DeprecationWarning)\n",
      "/home/mukund/anaconda3/lib/python3.8/site-packages/sklearn/utils/deprecation.py:77: DeprecationWarning: Function log_multivariate_normal_density is deprecated; The function log_multivariate_normal_density is deprecated in 0.18 and will be removed in 0.20.\n",
      "  warnings.warn(msg, category=DeprecationWarning)\n",
      "/home/mukund/anaconda3/lib/python3.8/site-packages/sklearn/utils/deprecation.py:77: DeprecationWarning: Function log_multivariate_normal_density is deprecated; The function log_multivariate_normal_density is deprecated in 0.18 and will be removed in 0.20.\n",
      "  warnings.warn(msg, category=DeprecationWarning)\n"
     ]
    },
    {
     "name": "stdout",
     "output_type": "stream",
     "text": [
      "+ FEMALE SCORE     : 846.547\n",
      "+ MALE SCORE       : 429.407\n",
      "+ EXPECTATION      : female\n",
      "+ IDENTIFICATION   : female\n",
      "----------------------------------------------------\n",
      "--> TESTING        : FemaleSad24.wav\n",
      "+ FEMALE SCORE     : -71.104\n",
      "+ MALE SCORE       : -599.773\n",
      "+ EXPECTATION      : female\n",
      "+ IDENTIFICATION   : female\n",
      "----------------------------------------------------\n",
      "--> TESTING        : FemaleSad43.wav\n",
      "+ FEMALE SCORE     : 331.285\n",
      "+ MALE SCORE       : 50.098\n",
      "+ EXPECTATION      : female\n",
      "+ IDENTIFICATION   : female\n",
      "----------------------------------------------------\n",
      "--> TESTING        : FemaleSad49.wav\n"
     ]
    },
    {
     "name": "stderr",
     "output_type": "stream",
     "text": [
      "/home/mukund/anaconda3/lib/python3.8/site-packages/sklearn/utils/deprecation.py:77: DeprecationWarning: Function log_multivariate_normal_density is deprecated; The function log_multivariate_normal_density is deprecated in 0.18 and will be removed in 0.20.\n",
      "  warnings.warn(msg, category=DeprecationWarning)\n",
      "/home/mukund/anaconda3/lib/python3.8/site-packages/sklearn/utils/deprecation.py:77: DeprecationWarning: Function log_multivariate_normal_density is deprecated; The function log_multivariate_normal_density is deprecated in 0.18 and will be removed in 0.20.\n",
      "  warnings.warn(msg, category=DeprecationWarning)\n",
      "/home/mukund/anaconda3/lib/python3.8/site-packages/sklearn/utils/deprecation.py:77: DeprecationWarning: Function log_multivariate_normal_density is deprecated; The function log_multivariate_normal_density is deprecated in 0.18 and will be removed in 0.20.\n",
      "  warnings.warn(msg, category=DeprecationWarning)\n",
      "/home/mukund/anaconda3/lib/python3.8/site-packages/sklearn/utils/deprecation.py:77: DeprecationWarning: Function log_multivariate_normal_density is deprecated; The function log_multivariate_normal_density is deprecated in 0.18 and will be removed in 0.20.\n",
      "  warnings.warn(msg, category=DeprecationWarning)\n"
     ]
    },
    {
     "name": "stdout",
     "output_type": "stream",
     "text": [
      "+ FEMALE SCORE     : 73.194\n",
      "+ MALE SCORE       : -105.58\n",
      "+ EXPECTATION      : female\n",
      "+ IDENTIFICATION   : female\n",
      "----------------------------------------------------\n",
      "--> TESTING        : FemaleSad34.wav\n",
      "+ FEMALE SCORE     : 206.378\n",
      "+ MALE SCORE       : -273.946\n",
      "+ EXPECTATION      : female\n",
      "+ IDENTIFICATION   : female\n",
      "----------------------------------------------------\n",
      "--> TESTING        : FemaleSad12.wav\n"
     ]
    },
    {
     "name": "stderr",
     "output_type": "stream",
     "text": [
      "/home/mukund/anaconda3/lib/python3.8/site-packages/sklearn/utils/deprecation.py:77: DeprecationWarning: Function log_multivariate_normal_density is deprecated; The function log_multivariate_normal_density is deprecated in 0.18 and will be removed in 0.20.\n",
      "  warnings.warn(msg, category=DeprecationWarning)\n",
      "/home/mukund/anaconda3/lib/python3.8/site-packages/sklearn/utils/deprecation.py:77: DeprecationWarning: Function log_multivariate_normal_density is deprecated; The function log_multivariate_normal_density is deprecated in 0.18 and will be removed in 0.20.\n",
      "  warnings.warn(msg, category=DeprecationWarning)\n",
      "/home/mukund/anaconda3/lib/python3.8/site-packages/sklearn/utils/deprecation.py:77: DeprecationWarning: Function log_multivariate_normal_density is deprecated; The function log_multivariate_normal_density is deprecated in 0.18 and will be removed in 0.20.\n",
      "  warnings.warn(msg, category=DeprecationWarning)\n",
      "/home/mukund/anaconda3/lib/python3.8/site-packages/sklearn/utils/deprecation.py:77: DeprecationWarning: Function log_multivariate_normal_density is deprecated; The function log_multivariate_normal_density is deprecated in 0.18 and will be removed in 0.20.\n",
      "  warnings.warn(msg, category=DeprecationWarning)\n",
      "/home/mukund/anaconda3/lib/python3.8/site-packages/sklearn/utils/deprecation.py:77: DeprecationWarning: Function log_multivariate_normal_density is deprecated; The function log_multivariate_normal_density is deprecated in 0.18 and will be removed in 0.20.\n",
      "  warnings.warn(msg, category=DeprecationWarning)\n",
      "/home/mukund/anaconda3/lib/python3.8/site-packages/sklearn/utils/deprecation.py:77: DeprecationWarning: Function log_multivariate_normal_density is deprecated; The function log_multivariate_normal_density is deprecated in 0.18 and will be removed in 0.20.\n",
      "  warnings.warn(msg, category=DeprecationWarning)\n"
     ]
    },
    {
     "name": "stdout",
     "output_type": "stream",
     "text": [
      "+ FEMALE SCORE     : 5723.733\n",
      "+ MALE SCORE       : 3488.949\n",
      "+ EXPECTATION      : female\n",
      "+ IDENTIFICATION   : female\n",
      "----------------------------------------------------\n",
      "--> TESTING        : FemaleSad50.wav\n",
      "+ FEMALE SCORE     : 521.075\n",
      "+ MALE SCORE       : 173.337\n",
      "+ EXPECTATION      : female\n",
      "+ IDENTIFICATION   : female\n",
      "----------------------------------------------------\n",
      "--> TESTING        : FemaleSad26.wav\n",
      "+ FEMALE SCORE     : 864.729\n",
      "+ MALE SCORE       : 624.194\n",
      "+ EXPECTATION      : female\n",
      "+ IDENTIFICATION   : female\n",
      "----------------------------------------------------\n",
      "--> TESTING        : FemaleSad28.wav\n"
     ]
    },
    {
     "name": "stderr",
     "output_type": "stream",
     "text": [
      "/home/mukund/anaconda3/lib/python3.8/site-packages/sklearn/utils/deprecation.py:77: DeprecationWarning: Function log_multivariate_normal_density is deprecated; The function log_multivariate_normal_density is deprecated in 0.18 and will be removed in 0.20.\n",
      "  warnings.warn(msg, category=DeprecationWarning)\n",
      "/home/mukund/anaconda3/lib/python3.8/site-packages/sklearn/utils/deprecation.py:77: DeprecationWarning: Function log_multivariate_normal_density is deprecated; The function log_multivariate_normal_density is deprecated in 0.18 and will be removed in 0.20.\n",
      "  warnings.warn(msg, category=DeprecationWarning)\n",
      "/home/mukund/anaconda3/lib/python3.8/site-packages/sklearn/utils/deprecation.py:77: DeprecationWarning: Function log_multivariate_normal_density is deprecated; The function log_multivariate_normal_density is deprecated in 0.18 and will be removed in 0.20.\n",
      "  warnings.warn(msg, category=DeprecationWarning)\n",
      "/home/mukund/anaconda3/lib/python3.8/site-packages/sklearn/utils/deprecation.py:77: DeprecationWarning: Function log_multivariate_normal_density is deprecated; The function log_multivariate_normal_density is deprecated in 0.18 and will be removed in 0.20.\n",
      "  warnings.warn(msg, category=DeprecationWarning)\n"
     ]
    },
    {
     "name": "stdout",
     "output_type": "stream",
     "text": [
      "+ FEMALE SCORE     : 592.701\n",
      "+ MALE SCORE       : 533.662\n",
      "+ EXPECTATION      : female\n",
      "+ IDENTIFICATION   : female\n",
      "----------------------------------------------------\n",
      "--> TESTING        : FemaleSad19.wav\n",
      "+ FEMALE SCORE     : -310.375\n",
      "+ MALE SCORE       : -782.567\n",
      "+ EXPECTATION      : female\n",
      "+ IDENTIFICATION   : female\n",
      "----------------------------------------------------\n",
      "--> TESTING        : FemaleSad46.wav\n"
     ]
    },
    {
     "name": "stderr",
     "output_type": "stream",
     "text": [
      "/home/mukund/anaconda3/lib/python3.8/site-packages/sklearn/utils/deprecation.py:77: DeprecationWarning: Function log_multivariate_normal_density is deprecated; The function log_multivariate_normal_density is deprecated in 0.18 and will be removed in 0.20.\n",
      "  warnings.warn(msg, category=DeprecationWarning)\n",
      "/home/mukund/anaconda3/lib/python3.8/site-packages/sklearn/utils/deprecation.py:77: DeprecationWarning: Function log_multivariate_normal_density is deprecated; The function log_multivariate_normal_density is deprecated in 0.18 and will be removed in 0.20.\n",
      "  warnings.warn(msg, category=DeprecationWarning)\n",
      "/home/mukund/anaconda3/lib/python3.8/site-packages/sklearn/utils/deprecation.py:77: DeprecationWarning: Function log_multivariate_normal_density is deprecated; The function log_multivariate_normal_density is deprecated in 0.18 and will be removed in 0.20.\n",
      "  warnings.warn(msg, category=DeprecationWarning)\n",
      "/home/mukund/anaconda3/lib/python3.8/site-packages/sklearn/utils/deprecation.py:77: DeprecationWarning: Function log_multivariate_normal_density is deprecated; The function log_multivariate_normal_density is deprecated in 0.18 and will be removed in 0.20.\n",
      "  warnings.warn(msg, category=DeprecationWarning)\n"
     ]
    },
    {
     "name": "stdout",
     "output_type": "stream",
     "text": [
      "+ FEMALE SCORE     : 656.398\n",
      "+ MALE SCORE       : 61.993\n",
      "+ EXPECTATION      : female\n",
      "+ IDENTIFICATION   : female\n",
      "----------------------------------------------------\n",
      "--> TESTING        : FemaleSad52.wav\n",
      "+ FEMALE SCORE     : 837.917\n",
      "+ MALE SCORE       : 300.974\n",
      "+ EXPECTATION      : female\n",
      "+ IDENTIFICATION   : female\n",
      "----------------------------------------------------\n",
      "--> TESTING        : FemaleSad33.wav\n"
     ]
    },
    {
     "name": "stderr",
     "output_type": "stream",
     "text": [
      "/home/mukund/anaconda3/lib/python3.8/site-packages/sklearn/utils/deprecation.py:77: DeprecationWarning: Function log_multivariate_normal_density is deprecated; The function log_multivariate_normal_density is deprecated in 0.18 and will be removed in 0.20.\n",
      "  warnings.warn(msg, category=DeprecationWarning)\n",
      "/home/mukund/anaconda3/lib/python3.8/site-packages/sklearn/utils/deprecation.py:77: DeprecationWarning: Function log_multivariate_normal_density is deprecated; The function log_multivariate_normal_density is deprecated in 0.18 and will be removed in 0.20.\n",
      "  warnings.warn(msg, category=DeprecationWarning)\n",
      "/home/mukund/anaconda3/lib/python3.8/site-packages/sklearn/utils/deprecation.py:77: DeprecationWarning: Function log_multivariate_normal_density is deprecated; The function log_multivariate_normal_density is deprecated in 0.18 and will be removed in 0.20.\n",
      "  warnings.warn(msg, category=DeprecationWarning)\n",
      "/home/mukund/anaconda3/lib/python3.8/site-packages/sklearn/utils/deprecation.py:77: DeprecationWarning: Function log_multivariate_normal_density is deprecated; The function log_multivariate_normal_density is deprecated in 0.18 and will be removed in 0.20.\n",
      "  warnings.warn(msg, category=DeprecationWarning)\n",
      "/home/mukund/anaconda3/lib/python3.8/site-packages/sklearn/utils/deprecation.py:77: DeprecationWarning: Function log_multivariate_normal_density is deprecated; The function log_multivariate_normal_density is deprecated in 0.18 and will be removed in 0.20.\n",
      "  warnings.warn(msg, category=DeprecationWarning)\n",
      "/home/mukund/anaconda3/lib/python3.8/site-packages/sklearn/utils/deprecation.py:77: DeprecationWarning: Function log_multivariate_normal_density is deprecated; The function log_multivariate_normal_density is deprecated in 0.18 and will be removed in 0.20.\n",
      "  warnings.warn(msg, category=DeprecationWarning)\n"
     ]
    },
    {
     "name": "stdout",
     "output_type": "stream",
     "text": [
      "+ FEMALE SCORE     : 406.781\n",
      "+ MALE SCORE       : -339.23\n",
      "+ EXPECTATION      : female\n",
      "+ IDENTIFICATION   : female\n",
      "----------------------------------------------------\n",
      "--> TESTING        : FemaleSad21.wav\n",
      "+ FEMALE SCORE     : -299.949\n",
      "+ MALE SCORE       : -894.339\n",
      "+ EXPECTATION      : female\n",
      "+ IDENTIFICATION   : female\n",
      "----------------------------------------------------\n",
      "--> TESTING        : FemaleSad23.wav\n",
      "+ FEMALE SCORE     : -213.916\n",
      "+ MALE SCORE       : -553.065\n",
      "+ EXPECTATION      : female\n",
      "+ IDENTIFICATION   : female\n",
      "----------------------------------------------------\n",
      "--> TESTING        : FemaleSad36.wav\n"
     ]
    },
    {
     "name": "stderr",
     "output_type": "stream",
     "text": [
      "/home/mukund/anaconda3/lib/python3.8/site-packages/sklearn/utils/deprecation.py:77: DeprecationWarning: Function log_multivariate_normal_density is deprecated; The function log_multivariate_normal_density is deprecated in 0.18 and will be removed in 0.20.\n",
      "  warnings.warn(msg, category=DeprecationWarning)\n",
      "/home/mukund/anaconda3/lib/python3.8/site-packages/sklearn/utils/deprecation.py:77: DeprecationWarning: Function log_multivariate_normal_density is deprecated; The function log_multivariate_normal_density is deprecated in 0.18 and will be removed in 0.20.\n",
      "  warnings.warn(msg, category=DeprecationWarning)\n",
      "/home/mukund/anaconda3/lib/python3.8/site-packages/sklearn/utils/deprecation.py:77: DeprecationWarning: Function log_multivariate_normal_density is deprecated; The function log_multivariate_normal_density is deprecated in 0.18 and will be removed in 0.20.\n",
      "  warnings.warn(msg, category=DeprecationWarning)\n",
      "/home/mukund/anaconda3/lib/python3.8/site-packages/sklearn/utils/deprecation.py:77: DeprecationWarning: Function log_multivariate_normal_density is deprecated; The function log_multivariate_normal_density is deprecated in 0.18 and will be removed in 0.20.\n",
      "  warnings.warn(msg, category=DeprecationWarning)\n"
     ]
    },
    {
     "name": "stdout",
     "output_type": "stream",
     "text": [
      "+ FEMALE SCORE     : 253.086\n",
      "+ MALE SCORE       : -264.175\n",
      "+ EXPECTATION      : female\n",
      "+ IDENTIFICATION   : female\n",
      "----------------------------------------------------\n",
      "--> TESTING        : FemaleSad31.wav\n",
      "+ FEMALE SCORE     : -141.465\n",
      "+ MALE SCORE       : -965.748\n",
      "+ EXPECTATION      : female\n",
      "+ IDENTIFICATION   : female\n",
      "----------------------------------------------------\n",
      "--> TESTING        : FemaleSad2.wav\n"
     ]
    },
    {
     "name": "stderr",
     "output_type": "stream",
     "text": [
      "/home/mukund/anaconda3/lib/python3.8/site-packages/sklearn/utils/deprecation.py:77: DeprecationWarning: Function log_multivariate_normal_density is deprecated; The function log_multivariate_normal_density is deprecated in 0.18 and will be removed in 0.20.\n",
      "  warnings.warn(msg, category=DeprecationWarning)\n",
      "/home/mukund/anaconda3/lib/python3.8/site-packages/sklearn/utils/deprecation.py:77: DeprecationWarning: Function log_multivariate_normal_density is deprecated; The function log_multivariate_normal_density is deprecated in 0.18 and will be removed in 0.20.\n",
      "  warnings.warn(msg, category=DeprecationWarning)\n",
      "/home/mukund/anaconda3/lib/python3.8/site-packages/sklearn/utils/deprecation.py:77: DeprecationWarning: Function log_multivariate_normal_density is deprecated; The function log_multivariate_normal_density is deprecated in 0.18 and will be removed in 0.20.\n",
      "  warnings.warn(msg, category=DeprecationWarning)\n",
      "/home/mukund/anaconda3/lib/python3.8/site-packages/sklearn/utils/deprecation.py:77: DeprecationWarning: Function log_multivariate_normal_density is deprecated; The function log_multivariate_normal_density is deprecated in 0.18 and will be removed in 0.20.\n",
      "  warnings.warn(msg, category=DeprecationWarning)\n"
     ]
    },
    {
     "name": "stdout",
     "output_type": "stream",
     "text": [
      "+ FEMALE SCORE     : 6266.049\n",
      "+ MALE SCORE       : 4001.671\n",
      "+ EXPECTATION      : female\n",
      "+ IDENTIFICATION   : female\n",
      "----------------------------------------------------\n",
      "--> TESTING        : FemaleSad39.wav\n",
      "+ FEMALE SCORE     : 1044.815\n",
      "+ MALE SCORE       : 334.294\n",
      "+ EXPECTATION      : female\n",
      "+ IDENTIFICATION   : female\n",
      "----------------------------------------------------\n",
      "--> TESTING        : FemaleSad15.wav\n"
     ]
    },
    {
     "name": "stderr",
     "output_type": "stream",
     "text": [
      "/home/mukund/anaconda3/lib/python3.8/site-packages/sklearn/utils/deprecation.py:77: DeprecationWarning: Function log_multivariate_normal_density is deprecated; The function log_multivariate_normal_density is deprecated in 0.18 and will be removed in 0.20.\n",
      "  warnings.warn(msg, category=DeprecationWarning)\n",
      "/home/mukund/anaconda3/lib/python3.8/site-packages/sklearn/utils/deprecation.py:77: DeprecationWarning: Function log_multivariate_normal_density is deprecated; The function log_multivariate_normal_density is deprecated in 0.18 and will be removed in 0.20.\n",
      "  warnings.warn(msg, category=DeprecationWarning)\n"
     ]
    },
    {
     "name": "stdout",
     "output_type": "stream",
     "text": [
      "+ FEMALE SCORE     : 79.757\n",
      "+ MALE SCORE       : -360.746\n",
      "+ EXPECTATION      : female\n",
      "+ IDENTIFICATION   : female\n",
      "----------------------------------------------------\n",
      "--> TESTING        : FemaleSad3.wav\n"
     ]
    },
    {
     "name": "stderr",
     "output_type": "stream",
     "text": [
      "/home/mukund/anaconda3/lib/python3.8/site-packages/sklearn/utils/deprecation.py:77: DeprecationWarning: Function log_multivariate_normal_density is deprecated; The function log_multivariate_normal_density is deprecated in 0.18 and will be removed in 0.20.\n",
      "  warnings.warn(msg, category=DeprecationWarning)\n",
      "/home/mukund/anaconda3/lib/python3.8/site-packages/sklearn/utils/deprecation.py:77: DeprecationWarning: Function log_multivariate_normal_density is deprecated; The function log_multivariate_normal_density is deprecated in 0.18 and will be removed in 0.20.\n",
      "  warnings.warn(msg, category=DeprecationWarning)\n",
      "/home/mukund/anaconda3/lib/python3.8/site-packages/sklearn/utils/deprecation.py:77: DeprecationWarning: Function log_multivariate_normal_density is deprecated; The function log_multivariate_normal_density is deprecated in 0.18 and will be removed in 0.20.\n",
      "  warnings.warn(msg, category=DeprecationWarning)\n",
      "/home/mukund/anaconda3/lib/python3.8/site-packages/sklearn/utils/deprecation.py:77: DeprecationWarning: Function log_multivariate_normal_density is deprecated; The function log_multivariate_normal_density is deprecated in 0.18 and will be removed in 0.20.\n",
      "  warnings.warn(msg, category=DeprecationWarning)\n"
     ]
    },
    {
     "name": "stdout",
     "output_type": "stream",
     "text": [
      "+ FEMALE SCORE     : 6845.98\n",
      "+ MALE SCORE       : 4558.4\n",
      "+ EXPECTATION      : female\n",
      "+ IDENTIFICATION   : female\n",
      "----------------------------------------------------\n",
      "--> TESTING        : FemaleSad32.wav\n",
      "+ FEMALE SCORE     : 442.889\n",
      "+ MALE SCORE       : 490.15\n",
      "+ EXPECTATION      : female\n",
      "+ IDENTIFICATION   : male\n",
      "----------------------------------------------------\n",
      "--> TESTING        : FemaleSad9.wav\n"
     ]
    },
    {
     "name": "stderr",
     "output_type": "stream",
     "text": [
      "/home/mukund/anaconda3/lib/python3.8/site-packages/sklearn/utils/deprecation.py:77: DeprecationWarning: Function log_multivariate_normal_density is deprecated; The function log_multivariate_normal_density is deprecated in 0.18 and will be removed in 0.20.\n",
      "  warnings.warn(msg, category=DeprecationWarning)\n",
      "/home/mukund/anaconda3/lib/python3.8/site-packages/sklearn/utils/deprecation.py:77: DeprecationWarning: Function log_multivariate_normal_density is deprecated; The function log_multivariate_normal_density is deprecated in 0.18 and will be removed in 0.20.\n",
      "  warnings.warn(msg, category=DeprecationWarning)\n",
      "/home/mukund/anaconda3/lib/python3.8/site-packages/sklearn/utils/deprecation.py:77: DeprecationWarning: Function log_multivariate_normal_density is deprecated; The function log_multivariate_normal_density is deprecated in 0.18 and will be removed in 0.20.\n",
      "  warnings.warn(msg, category=DeprecationWarning)\n",
      "/home/mukund/anaconda3/lib/python3.8/site-packages/sklearn/utils/deprecation.py:77: DeprecationWarning: Function log_multivariate_normal_density is deprecated; The function log_multivariate_normal_density is deprecated in 0.18 and will be removed in 0.20.\n",
      "  warnings.warn(msg, category=DeprecationWarning)\n",
      "/home/mukund/anaconda3/lib/python3.8/site-packages/sklearn/utils/deprecation.py:77: DeprecationWarning: Function log_multivariate_normal_density is deprecated; The function log_multivariate_normal_density is deprecated in 0.18 and will be removed in 0.20.\n",
      "  warnings.warn(msg, category=DeprecationWarning)\n",
      "/home/mukund/anaconda3/lib/python3.8/site-packages/sklearn/utils/deprecation.py:77: DeprecationWarning: Function log_multivariate_normal_density is deprecated; The function log_multivariate_normal_density is deprecated in 0.18 and will be removed in 0.20.\n",
      "  warnings.warn(msg, category=DeprecationWarning)\n"
     ]
    },
    {
     "name": "stdout",
     "output_type": "stream",
     "text": [
      "+ FEMALE SCORE     : 7243.109\n",
      "+ MALE SCORE       : 4739.198\n",
      "+ EXPECTATION      : female\n",
      "+ IDENTIFICATION   : female\n",
      "----------------------------------------------------\n",
      "--> TESTING        : FemaleSad44.wav\n",
      "+ FEMALE SCORE     : 375.463\n",
      "+ MALE SCORE       : -109.465\n",
      "+ EXPECTATION      : female\n",
      "+ IDENTIFICATION   : female\n",
      "----------------------------------------------------\n",
      "--> TESTING        : FemaleSad48.wav\n",
      "+ FEMALE SCORE     : 695.991\n",
      "+ MALE SCORE       : 280.033\n",
      "+ EXPECTATION      : female\n",
      "+ IDENTIFICATION   : female\n",
      "----------------------------------------------------\n",
      "--> TESTING        : FemaleSad51.wav\n"
     ]
    },
    {
     "name": "stderr",
     "output_type": "stream",
     "text": [
      "/home/mukund/anaconda3/lib/python3.8/site-packages/sklearn/utils/deprecation.py:77: DeprecationWarning: Function log_multivariate_normal_density is deprecated; The function log_multivariate_normal_density is deprecated in 0.18 and will be removed in 0.20.\n",
      "  warnings.warn(msg, category=DeprecationWarning)\n",
      "/home/mukund/anaconda3/lib/python3.8/site-packages/sklearn/utils/deprecation.py:77: DeprecationWarning: Function log_multivariate_normal_density is deprecated; The function log_multivariate_normal_density is deprecated in 0.18 and will be removed in 0.20.\n",
      "  warnings.warn(msg, category=DeprecationWarning)\n",
      "/home/mukund/anaconda3/lib/python3.8/site-packages/sklearn/utils/deprecation.py:77: DeprecationWarning: Function log_multivariate_normal_density is deprecated; The function log_multivariate_normal_density is deprecated in 0.18 and will be removed in 0.20.\n",
      "  warnings.warn(msg, category=DeprecationWarning)\n",
      "/home/mukund/anaconda3/lib/python3.8/site-packages/sklearn/utils/deprecation.py:77: DeprecationWarning: Function log_multivariate_normal_density is deprecated; The function log_multivariate_normal_density is deprecated in 0.18 and will be removed in 0.20.\n",
      "  warnings.warn(msg, category=DeprecationWarning)\n",
      "/home/mukund/anaconda3/lib/python3.8/site-packages/sklearn/utils/deprecation.py:77: DeprecationWarning: Function log_multivariate_normal_density is deprecated; The function log_multivariate_normal_density is deprecated in 0.18 and will be removed in 0.20.\n",
      "  warnings.warn(msg, category=DeprecationWarning)\n",
      "/home/mukund/anaconda3/lib/python3.8/site-packages/sklearn/utils/deprecation.py:77: DeprecationWarning: Function log_multivariate_normal_density is deprecated; The function log_multivariate_normal_density is deprecated in 0.18 and will be removed in 0.20.\n",
      "  warnings.warn(msg, category=DeprecationWarning)\n"
     ]
    },
    {
     "name": "stdout",
     "output_type": "stream",
     "text": [
      "+ FEMALE SCORE     : 451.852\n",
      "+ MALE SCORE       : 139.194\n",
      "+ EXPECTATION      : female\n",
      "+ IDENTIFICATION   : female\n",
      "----------------------------------------------------\n",
      "--> TESTING        : FemaleSad45.wav\n",
      "+ FEMALE SCORE     : 314.023\n",
      "+ MALE SCORE       : 129.391\n",
      "+ EXPECTATION      : female\n",
      "+ IDENTIFICATION   : female\n",
      "----------------------------------------------------\n",
      "--> TESTING        : FemaleSad54.wav\n",
      "+ FEMALE SCORE     : 229.064\n",
      "+ MALE SCORE       : -154.508\n",
      "+ EXPECTATION      : female\n",
      "+ IDENTIFICATION   : female\n",
      "----------------------------------------------------\n",
      "--> TESTING        : FemaleSad47.wav\n"
     ]
    },
    {
     "name": "stderr",
     "output_type": "stream",
     "text": [
      "/home/mukund/anaconda3/lib/python3.8/site-packages/sklearn/utils/deprecation.py:77: DeprecationWarning: Function log_multivariate_normal_density is deprecated; The function log_multivariate_normal_density is deprecated in 0.18 and will be removed in 0.20.\n",
      "  warnings.warn(msg, category=DeprecationWarning)\n",
      "/home/mukund/anaconda3/lib/python3.8/site-packages/sklearn/utils/deprecation.py:77: DeprecationWarning: Function log_multivariate_normal_density is deprecated; The function log_multivariate_normal_density is deprecated in 0.18 and will be removed in 0.20.\n",
      "  warnings.warn(msg, category=DeprecationWarning)\n",
      "/home/mukund/anaconda3/lib/python3.8/site-packages/sklearn/utils/deprecation.py:77: DeprecationWarning: Function log_multivariate_normal_density is deprecated; The function log_multivariate_normal_density is deprecated in 0.18 and will be removed in 0.20.\n",
      "  warnings.warn(msg, category=DeprecationWarning)\n",
      "/home/mukund/anaconda3/lib/python3.8/site-packages/sklearn/utils/deprecation.py:77: DeprecationWarning: Function log_multivariate_normal_density is deprecated; The function log_multivariate_normal_density is deprecated in 0.18 and will be removed in 0.20.\n",
      "  warnings.warn(msg, category=DeprecationWarning)\n",
      "/home/mukund/anaconda3/lib/python3.8/site-packages/sklearn/utils/deprecation.py:77: DeprecationWarning: Function log_multivariate_normal_density is deprecated; The function log_multivariate_normal_density is deprecated in 0.18 and will be removed in 0.20.\n",
      "  warnings.warn(msg, category=DeprecationWarning)\n",
      "/home/mukund/anaconda3/lib/python3.8/site-packages/sklearn/utils/deprecation.py:77: DeprecationWarning: Function log_multivariate_normal_density is deprecated; The function log_multivariate_normal_density is deprecated in 0.18 and will be removed in 0.20.\n",
      "  warnings.warn(msg, category=DeprecationWarning)\n"
     ]
    },
    {
     "name": "stdout",
     "output_type": "stream",
     "text": [
      "+ FEMALE SCORE     : 375.059\n",
      "+ MALE SCORE       : -121.442\n",
      "+ EXPECTATION      : female\n",
      "+ IDENTIFICATION   : female\n",
      "----------------------------------------------------\n",
      "--> TESTING        : FemaleSad13.wav\n",
      "+ FEMALE SCORE     : -450.419\n",
      "+ MALE SCORE       : -791.757\n",
      "+ EXPECTATION      : female\n",
      "+ IDENTIFICATION   : female\n",
      "----------------------------------------------------\n",
      "--> TESTING        : FemaleSad37.wav\n",
      "+ FEMALE SCORE     : 236.45\n",
      "+ MALE SCORE       : -432.816\n",
      "+ EXPECTATION      : female\n",
      "+ IDENTIFICATION   : female\n",
      "----------------------------------------------------\n",
      "--> TESTING        : FemaleSad35.wav\n"
     ]
    },
    {
     "name": "stderr",
     "output_type": "stream",
     "text": [
      "/home/mukund/anaconda3/lib/python3.8/site-packages/sklearn/utils/deprecation.py:77: DeprecationWarning: Function log_multivariate_normal_density is deprecated; The function log_multivariate_normal_density is deprecated in 0.18 and will be removed in 0.20.\n",
      "  warnings.warn(msg, category=DeprecationWarning)\n",
      "/home/mukund/anaconda3/lib/python3.8/site-packages/sklearn/utils/deprecation.py:77: DeprecationWarning: Function log_multivariate_normal_density is deprecated; The function log_multivariate_normal_density is deprecated in 0.18 and will be removed in 0.20.\n",
      "  warnings.warn(msg, category=DeprecationWarning)\n",
      "/home/mukund/anaconda3/lib/python3.8/site-packages/sklearn/utils/deprecation.py:77: DeprecationWarning: Function log_multivariate_normal_density is deprecated; The function log_multivariate_normal_density is deprecated in 0.18 and will be removed in 0.20.\n",
      "  warnings.warn(msg, category=DeprecationWarning)\n",
      "/home/mukund/anaconda3/lib/python3.8/site-packages/sklearn/utils/deprecation.py:77: DeprecationWarning: Function log_multivariate_normal_density is deprecated; The function log_multivariate_normal_density is deprecated in 0.18 and will be removed in 0.20.\n",
      "  warnings.warn(msg, category=DeprecationWarning)\n"
     ]
    },
    {
     "name": "stdout",
     "output_type": "stream",
     "text": [
      "+ FEMALE SCORE     : 361.505\n",
      "+ MALE SCORE       : -387.94\n",
      "+ EXPECTATION      : female\n",
      "+ IDENTIFICATION   : female\n",
      "----------------------------------------------------\n",
      "--> TESTING        : FemaleSad16.wav\n",
      "+ FEMALE SCORE     : -386.501\n",
      "+ MALE SCORE       : -648.5\n",
      "+ EXPECTATION      : female\n",
      "+ IDENTIFICATION   : female\n",
      "----------------------------------------------------\n",
      "--> TESTING        : FemaleSad4.wav\n"
     ]
    },
    {
     "name": "stderr",
     "output_type": "stream",
     "text": [
      "/home/mukund/anaconda3/lib/python3.8/site-packages/sklearn/utils/deprecation.py:77: DeprecationWarning: Function log_multivariate_normal_density is deprecated; The function log_multivariate_normal_density is deprecated in 0.18 and will be removed in 0.20.\n",
      "  warnings.warn(msg, category=DeprecationWarning)\n",
      "/home/mukund/anaconda3/lib/python3.8/site-packages/sklearn/utils/deprecation.py:77: DeprecationWarning: Function log_multivariate_normal_density is deprecated; The function log_multivariate_normal_density is deprecated in 0.18 and will be removed in 0.20.\n",
      "  warnings.warn(msg, category=DeprecationWarning)\n"
     ]
    },
    {
     "name": "stdout",
     "output_type": "stream",
     "text": [
      "+ FEMALE SCORE     : 6077.114\n",
      "+ MALE SCORE       : 3967.407\n",
      "+ EXPECTATION      : female\n",
      "+ IDENTIFICATION   : female\n",
      "----------------------------------------------------\n",
      "--> TESTING        : FemaleSad1.wav\n"
     ]
    },
    {
     "name": "stderr",
     "output_type": "stream",
     "text": [
      "/home/mukund/anaconda3/lib/python3.8/site-packages/sklearn/utils/deprecation.py:77: DeprecationWarning: Function log_multivariate_normal_density is deprecated; The function log_multivariate_normal_density is deprecated in 0.18 and will be removed in 0.20.\n",
      "  warnings.warn(msg, category=DeprecationWarning)\n",
      "/home/mukund/anaconda3/lib/python3.8/site-packages/sklearn/utils/deprecation.py:77: DeprecationWarning: Function log_multivariate_normal_density is deprecated; The function log_multivariate_normal_density is deprecated in 0.18 and will be removed in 0.20.\n",
      "  warnings.warn(msg, category=DeprecationWarning)\n"
     ]
    },
    {
     "name": "stdout",
     "output_type": "stream",
     "text": [
      "+ FEMALE SCORE     : 6832.952\n",
      "+ MALE SCORE       : 4162.679\n",
      "+ EXPECTATION      : female\n",
      "+ IDENTIFICATION   : female\n",
      "----------------------------------------------------\n",
      "--> TESTING        : MaleSad71.wav\n"
     ]
    },
    {
     "name": "stderr",
     "output_type": "stream",
     "text": [
      "/home/mukund/anaconda3/lib/python3.8/site-packages/sklearn/utils/deprecation.py:77: DeprecationWarning: Function log_multivariate_normal_density is deprecated; The function log_multivariate_normal_density is deprecated in 0.18 and will be removed in 0.20.\n",
      "  warnings.warn(msg, category=DeprecationWarning)\n",
      "/home/mukund/anaconda3/lib/python3.8/site-packages/sklearn/utils/deprecation.py:77: DeprecationWarning: Function log_multivariate_normal_density is deprecated; The function log_multivariate_normal_density is deprecated in 0.18 and will be removed in 0.20.\n",
      "  warnings.warn(msg, category=DeprecationWarning)\n",
      "/home/mukund/anaconda3/lib/python3.8/site-packages/sklearn/utils/deprecation.py:77: DeprecationWarning: Function log_multivariate_normal_density is deprecated; The function log_multivariate_normal_density is deprecated in 0.18 and will be removed in 0.20.\n",
      "  warnings.warn(msg, category=DeprecationWarning)\n",
      "/home/mukund/anaconda3/lib/python3.8/site-packages/sklearn/utils/deprecation.py:77: DeprecationWarning: Function log_multivariate_normal_density is deprecated; The function log_multivariate_normal_density is deprecated in 0.18 and will be removed in 0.20.\n",
      "  warnings.warn(msg, category=DeprecationWarning)\n"
     ]
    },
    {
     "name": "stdout",
     "output_type": "stream",
     "text": [
      "+ FEMALE SCORE     : -2509.342\n",
      "+ MALE SCORE       : 225.239\n",
      "+ EXPECTATION      : male\n",
      "+ IDENTIFICATION   : male\n",
      "----------------------------------------------------\n",
      "--> TESTING        : MaleSad69.wav\n",
      "+ FEMALE SCORE     : -3368.393\n",
      "+ MALE SCORE       : -758.85\n",
      "+ EXPECTATION      : male\n",
      "+ IDENTIFICATION   : male\n",
      "----------------------------------------------------\n",
      "--> TESTING        : MaleSad41.wav\n"
     ]
    },
    {
     "name": "stderr",
     "output_type": "stream",
     "text": [
      "/home/mukund/anaconda3/lib/python3.8/site-packages/sklearn/utils/deprecation.py:77: DeprecationWarning: Function log_multivariate_normal_density is deprecated; The function log_multivariate_normal_density is deprecated in 0.18 and will be removed in 0.20.\n",
      "  warnings.warn(msg, category=DeprecationWarning)\n",
      "/home/mukund/anaconda3/lib/python3.8/site-packages/sklearn/utils/deprecation.py:77: DeprecationWarning: Function log_multivariate_normal_density is deprecated; The function log_multivariate_normal_density is deprecated in 0.18 and will be removed in 0.20.\n",
      "  warnings.warn(msg, category=DeprecationWarning)\n",
      "/home/mukund/anaconda3/lib/python3.8/site-packages/sklearn/utils/deprecation.py:77: DeprecationWarning: Function log_multivariate_normal_density is deprecated; The function log_multivariate_normal_density is deprecated in 0.18 and will be removed in 0.20.\n",
      "  warnings.warn(msg, category=DeprecationWarning)\n",
      "/home/mukund/anaconda3/lib/python3.8/site-packages/sklearn/utils/deprecation.py:77: DeprecationWarning: Function log_multivariate_normal_density is deprecated; The function log_multivariate_normal_density is deprecated in 0.18 and will be removed in 0.20.\n",
      "  warnings.warn(msg, category=DeprecationWarning)\n"
     ]
    },
    {
     "name": "stdout",
     "output_type": "stream",
     "text": [
      "+ FEMALE SCORE     : -115.154\n",
      "+ MALE SCORE       : 333.178\n",
      "+ EXPECTATION      : male\n",
      "+ IDENTIFICATION   : male\n",
      "----------------------------------------------------\n",
      "--> TESTING        : MaleSad62.wav\n",
      "+ FEMALE SCORE     : -3217.436\n",
      "+ MALE SCORE       : -1034.429\n",
      "+ EXPECTATION      : male\n",
      "+ IDENTIFICATION   : male\n",
      "----------------------------------------------------\n",
      "--> TESTING        : MaleSad70.wav\n"
     ]
    },
    {
     "name": "stderr",
     "output_type": "stream",
     "text": [
      "/home/mukund/anaconda3/lib/python3.8/site-packages/sklearn/utils/deprecation.py:77: DeprecationWarning: Function log_multivariate_normal_density is deprecated; The function log_multivariate_normal_density is deprecated in 0.18 and will be removed in 0.20.\n",
      "  warnings.warn(msg, category=DeprecationWarning)\n",
      "/home/mukund/anaconda3/lib/python3.8/site-packages/sklearn/utils/deprecation.py:77: DeprecationWarning: Function log_multivariate_normal_density is deprecated; The function log_multivariate_normal_density is deprecated in 0.18 and will be removed in 0.20.\n",
      "  warnings.warn(msg, category=DeprecationWarning)\n",
      "/home/mukund/anaconda3/lib/python3.8/site-packages/sklearn/utils/deprecation.py:77: DeprecationWarning: Function log_multivariate_normal_density is deprecated; The function log_multivariate_normal_density is deprecated in 0.18 and will be removed in 0.20.\n",
      "  warnings.warn(msg, category=DeprecationWarning)\n",
      "/home/mukund/anaconda3/lib/python3.8/site-packages/sklearn/utils/deprecation.py:77: DeprecationWarning: Function log_multivariate_normal_density is deprecated; The function log_multivariate_normal_density is deprecated in 0.18 and will be removed in 0.20.\n",
      "  warnings.warn(msg, category=DeprecationWarning)\n"
     ]
    },
    {
     "name": "stdout",
     "output_type": "stream",
     "text": [
      "+ FEMALE SCORE     : -2327.545\n",
      "+ MALE SCORE       : -800.091\n",
      "+ EXPECTATION      : male\n",
      "+ IDENTIFICATION   : male\n",
      "----------------------------------------------------\n",
      "--> TESTING        : MaleSad66.wav\n",
      "+ FEMALE SCORE     : -2950.065\n",
      "+ MALE SCORE       : -474.892\n",
      "+ EXPECTATION      : male\n",
      "+ IDENTIFICATION   : male\n",
      "----------------------------------------------------\n",
      "--> TESTING        : MaleSad6.wav\n"
     ]
    },
    {
     "name": "stderr",
     "output_type": "stream",
     "text": [
      "/home/mukund/anaconda3/lib/python3.8/site-packages/sklearn/utils/deprecation.py:77: DeprecationWarning: Function log_multivariate_normal_density is deprecated; The function log_multivariate_normal_density is deprecated in 0.18 and will be removed in 0.20.\n",
      "  warnings.warn(msg, category=DeprecationWarning)\n",
      "/home/mukund/anaconda3/lib/python3.8/site-packages/sklearn/utils/deprecation.py:77: DeprecationWarning: Function log_multivariate_normal_density is deprecated; The function log_multivariate_normal_density is deprecated in 0.18 and will be removed in 0.20.\n",
      "  warnings.warn(msg, category=DeprecationWarning)\n",
      "/home/mukund/anaconda3/lib/python3.8/site-packages/sklearn/utils/deprecation.py:77: DeprecationWarning: Function log_multivariate_normal_density is deprecated; The function log_multivariate_normal_density is deprecated in 0.18 and will be removed in 0.20.\n",
      "  warnings.warn(msg, category=DeprecationWarning)\n",
      "/home/mukund/anaconda3/lib/python3.8/site-packages/sklearn/utils/deprecation.py:77: DeprecationWarning: Function log_multivariate_normal_density is deprecated; The function log_multivariate_normal_density is deprecated in 0.18 and will be removed in 0.20.\n",
      "  warnings.warn(msg, category=DeprecationWarning)\n"
     ]
    },
    {
     "name": "stdout",
     "output_type": "stream",
     "text": [
      "+ FEMALE SCORE     : 589.528\n",
      "+ MALE SCORE       : 2234.498\n",
      "+ EXPECTATION      : male\n",
      "+ IDENTIFICATION   : male\n",
      "----------------------------------------------------\n",
      "--> TESTING        : MaleSad12.wav\n",
      "+ FEMALE SCORE     : 2068.214\n",
      "+ MALE SCORE       : 3323.724\n",
      "+ EXPECTATION      : male\n",
      "+ IDENTIFICATION   : male\n",
      "----------------------------------------------------\n",
      "--> TESTING        : MaleSad54.wav\n"
     ]
    },
    {
     "name": "stderr",
     "output_type": "stream",
     "text": [
      "/home/mukund/anaconda3/lib/python3.8/site-packages/sklearn/utils/deprecation.py:77: DeprecationWarning: Function log_multivariate_normal_density is deprecated; The function log_multivariate_normal_density is deprecated in 0.18 and will be removed in 0.20.\n",
      "  warnings.warn(msg, category=DeprecationWarning)\n",
      "/home/mukund/anaconda3/lib/python3.8/site-packages/sklearn/utils/deprecation.py:77: DeprecationWarning: Function log_multivariate_normal_density is deprecated; The function log_multivariate_normal_density is deprecated in 0.18 and will be removed in 0.20.\n",
      "  warnings.warn(msg, category=DeprecationWarning)\n",
      "/home/mukund/anaconda3/lib/python3.8/site-packages/sklearn/utils/deprecation.py:77: DeprecationWarning: Function log_multivariate_normal_density is deprecated; The function log_multivariate_normal_density is deprecated in 0.18 and will be removed in 0.20.\n",
      "  warnings.warn(msg, category=DeprecationWarning)\n",
      "/home/mukund/anaconda3/lib/python3.8/site-packages/sklearn/utils/deprecation.py:77: DeprecationWarning: Function log_multivariate_normal_density is deprecated; The function log_multivariate_normal_density is deprecated in 0.18 and will be removed in 0.20.\n",
      "  warnings.warn(msg, category=DeprecationWarning)\n",
      "/home/mukund/anaconda3/lib/python3.8/site-packages/sklearn/utils/deprecation.py:77: DeprecationWarning: Function log_multivariate_normal_density is deprecated; The function log_multivariate_normal_density is deprecated in 0.18 and will be removed in 0.20.\n",
      "  warnings.warn(msg, category=DeprecationWarning)\n",
      "/home/mukund/anaconda3/lib/python3.8/site-packages/sklearn/utils/deprecation.py:77: DeprecationWarning: Function log_multivariate_normal_density is deprecated; The function log_multivariate_normal_density is deprecated in 0.18 and will be removed in 0.20.\n",
      "  warnings.warn(msg, category=DeprecationWarning)\n"
     ]
    },
    {
     "name": "stdout",
     "output_type": "stream",
     "text": [
      "+ FEMALE SCORE     : -212.096\n",
      "+ MALE SCORE       : 31.287\n",
      "+ EXPECTATION      : male\n",
      "+ IDENTIFICATION   : male\n",
      "----------------------------------------------------\n",
      "--> TESTING        : MaleSad46.wav\n",
      "+ FEMALE SCORE     : 430.321\n",
      "+ MALE SCORE       : 512.383\n",
      "+ EXPECTATION      : male\n",
      "+ IDENTIFICATION   : male\n",
      "----------------------------------------------------\n",
      "--> TESTING        : MaleSad53.wav\n",
      "+ FEMALE SCORE     : -934.641\n",
      "+ MALE SCORE       : -785.604\n",
      "+ EXPECTATION      : male\n",
      "+ IDENTIFICATION   : male\n",
      "----------------------------------------------------\n",
      "--> TESTING        : MaleSad45.wav\n"
     ]
    },
    {
     "name": "stderr",
     "output_type": "stream",
     "text": [
      "/home/mukund/anaconda3/lib/python3.8/site-packages/sklearn/utils/deprecation.py:77: DeprecationWarning: Function log_multivariate_normal_density is deprecated; The function log_multivariate_normal_density is deprecated in 0.18 and will be removed in 0.20.\n",
      "  warnings.warn(msg, category=DeprecationWarning)\n",
      "/home/mukund/anaconda3/lib/python3.8/site-packages/sklearn/utils/deprecation.py:77: DeprecationWarning: Function log_multivariate_normal_density is deprecated; The function log_multivariate_normal_density is deprecated in 0.18 and will be removed in 0.20.\n",
      "  warnings.warn(msg, category=DeprecationWarning)\n",
      "/home/mukund/anaconda3/lib/python3.8/site-packages/sklearn/utils/deprecation.py:77: DeprecationWarning: Function log_multivariate_normal_density is deprecated; The function log_multivariate_normal_density is deprecated in 0.18 and will be removed in 0.20.\n",
      "  warnings.warn(msg, category=DeprecationWarning)\n",
      "/home/mukund/anaconda3/lib/python3.8/site-packages/sklearn/utils/deprecation.py:77: DeprecationWarning: Function log_multivariate_normal_density is deprecated; The function log_multivariate_normal_density is deprecated in 0.18 and will be removed in 0.20.\n",
      "  warnings.warn(msg, category=DeprecationWarning)\n"
     ]
    },
    {
     "name": "stdout",
     "output_type": "stream",
     "text": [
      "+ FEMALE SCORE     : 177.11\n",
      "+ MALE SCORE       : 444.239\n",
      "+ EXPECTATION      : male\n",
      "+ IDENTIFICATION   : male\n",
      "----------------------------------------------------\n",
      "--> TESTING        : MaleSad63.wav\n",
      "+ FEMALE SCORE     : -4114.182\n",
      "+ MALE SCORE       : -1787.398\n",
      "+ EXPECTATION      : male\n",
      "+ IDENTIFICATION   : male\n",
      "----------------------------------------------------\n",
      "--> TESTING        : MaleSad42.wav\n"
     ]
    },
    {
     "name": "stderr",
     "output_type": "stream",
     "text": [
      "/home/mukund/anaconda3/lib/python3.8/site-packages/sklearn/utils/deprecation.py:77: DeprecationWarning: Function log_multivariate_normal_density is deprecated; The function log_multivariate_normal_density is deprecated in 0.18 and will be removed in 0.20.\n",
      "  warnings.warn(msg, category=DeprecationWarning)\n",
      "/home/mukund/anaconda3/lib/python3.8/site-packages/sklearn/utils/deprecation.py:77: DeprecationWarning: Function log_multivariate_normal_density is deprecated; The function log_multivariate_normal_density is deprecated in 0.18 and will be removed in 0.20.\n",
      "  warnings.warn(msg, category=DeprecationWarning)\n",
      "/home/mukund/anaconda3/lib/python3.8/site-packages/sklearn/utils/deprecation.py:77: DeprecationWarning: Function log_multivariate_normal_density is deprecated; The function log_multivariate_normal_density is deprecated in 0.18 and will be removed in 0.20.\n",
      "  warnings.warn(msg, category=DeprecationWarning)\n",
      "/home/mukund/anaconda3/lib/python3.8/site-packages/sklearn/utils/deprecation.py:77: DeprecationWarning: Function log_multivariate_normal_density is deprecated; The function log_multivariate_normal_density is deprecated in 0.18 and will be removed in 0.20.\n",
      "  warnings.warn(msg, category=DeprecationWarning)\n",
      "/home/mukund/anaconda3/lib/python3.8/site-packages/sklearn/utils/deprecation.py:77: DeprecationWarning: Function log_multivariate_normal_density is deprecated; The function log_multivariate_normal_density is deprecated in 0.18 and will be removed in 0.20.\n",
      "  warnings.warn(msg, category=DeprecationWarning)\n",
      "/home/mukund/anaconda3/lib/python3.8/site-packages/sklearn/utils/deprecation.py:77: DeprecationWarning: Function log_multivariate_normal_density is deprecated; The function log_multivariate_normal_density is deprecated in 0.18 and will be removed in 0.20.\n",
      "  warnings.warn(msg, category=DeprecationWarning)\n"
     ]
    },
    {
     "name": "stdout",
     "output_type": "stream",
     "text": [
      "+ FEMALE SCORE     : 1371.026\n",
      "+ MALE SCORE       : 1584.542\n",
      "+ EXPECTATION      : male\n",
      "+ IDENTIFICATION   : male\n",
      "----------------------------------------------------\n",
      "--> TESTING        : MaleSad51.wav\n",
      "+ FEMALE SCORE     : -600.517\n",
      "+ MALE SCORE       : -626.23\n",
      "+ EXPECTATION      : male\n",
      "+ IDENTIFICATION   : female\n",
      "----------------------------------------------------\n",
      "--> TESTING        : MaleSad57.wav\n",
      "+ FEMALE SCORE     : -275.818\n",
      "+ MALE SCORE       : -261.806\n",
      "+ EXPECTATION      : male\n",
      "+ IDENTIFICATION   : male\n",
      "----------------------------------------------------\n",
      "--> TESTING        : MaleSad52.wav\n"
     ]
    },
    {
     "name": "stderr",
     "output_type": "stream",
     "text": [
      "/home/mukund/anaconda3/lib/python3.8/site-packages/sklearn/utils/deprecation.py:77: DeprecationWarning: Function log_multivariate_normal_density is deprecated; The function log_multivariate_normal_density is deprecated in 0.18 and will be removed in 0.20.\n",
      "  warnings.warn(msg, category=DeprecationWarning)\n",
      "/home/mukund/anaconda3/lib/python3.8/site-packages/sklearn/utils/deprecation.py:77: DeprecationWarning: Function log_multivariate_normal_density is deprecated; The function log_multivariate_normal_density is deprecated in 0.18 and will be removed in 0.20.\n",
      "  warnings.warn(msg, category=DeprecationWarning)\n",
      "/home/mukund/anaconda3/lib/python3.8/site-packages/sklearn/utils/deprecation.py:77: DeprecationWarning: Function log_multivariate_normal_density is deprecated; The function log_multivariate_normal_density is deprecated in 0.18 and will be removed in 0.20.\n",
      "  warnings.warn(msg, category=DeprecationWarning)\n",
      "/home/mukund/anaconda3/lib/python3.8/site-packages/sklearn/utils/deprecation.py:77: DeprecationWarning: Function log_multivariate_normal_density is deprecated; The function log_multivariate_normal_density is deprecated in 0.18 and will be removed in 0.20.\n",
      "  warnings.warn(msg, category=DeprecationWarning)\n"
     ]
    },
    {
     "name": "stdout",
     "output_type": "stream",
     "text": [
      "+ FEMALE SCORE     : -615.49\n",
      "+ MALE SCORE       : -594.166\n",
      "+ EXPECTATION      : male\n",
      "+ IDENTIFICATION   : male\n",
      "----------------------------------------------------\n",
      "--> TESTING        : MaleSad68.wav\n",
      "+ FEMALE SCORE     : -2471.952\n",
      "+ MALE SCORE       : -600.245\n",
      "+ EXPECTATION      : male\n",
      "+ IDENTIFICATION   : male\n",
      "----------------------------------------------------\n",
      "--> TESTING        : MaleSad10.wav\n"
     ]
    },
    {
     "name": "stderr",
     "output_type": "stream",
     "text": [
      "/home/mukund/anaconda3/lib/python3.8/site-packages/sklearn/utils/deprecation.py:77: DeprecationWarning: Function log_multivariate_normal_density is deprecated; The function log_multivariate_normal_density is deprecated in 0.18 and will be removed in 0.20.\n",
      "  warnings.warn(msg, category=DeprecationWarning)\n",
      "/home/mukund/anaconda3/lib/python3.8/site-packages/sklearn/utils/deprecation.py:77: DeprecationWarning: Function log_multivariate_normal_density is deprecated; The function log_multivariate_normal_density is deprecated in 0.18 and will be removed in 0.20.\n",
      "  warnings.warn(msg, category=DeprecationWarning)\n"
     ]
    },
    {
     "name": "stdout",
     "output_type": "stream",
     "text": [
      "+ FEMALE SCORE     : 2722.17\n",
      "+ MALE SCORE       : 4469.825\n",
      "+ EXPECTATION      : male\n",
      "+ IDENTIFICATION   : male\n",
      "----------------------------------------------------\n",
      "--> TESTING        : MaleSad7.wav\n"
     ]
    },
    {
     "name": "stderr",
     "output_type": "stream",
     "text": [
      "/home/mukund/anaconda3/lib/python3.8/site-packages/sklearn/utils/deprecation.py:77: DeprecationWarning: Function log_multivariate_normal_density is deprecated; The function log_multivariate_normal_density is deprecated in 0.18 and will be removed in 0.20.\n",
      "  warnings.warn(msg, category=DeprecationWarning)\n",
      "/home/mukund/anaconda3/lib/python3.8/site-packages/sklearn/utils/deprecation.py:77: DeprecationWarning: Function log_multivariate_normal_density is deprecated; The function log_multivariate_normal_density is deprecated in 0.18 and will be removed in 0.20.\n",
      "  warnings.warn(msg, category=DeprecationWarning)\n",
      "/home/mukund/anaconda3/lib/python3.8/site-packages/sklearn/utils/deprecation.py:77: DeprecationWarning: Function log_multivariate_normal_density is deprecated; The function log_multivariate_normal_density is deprecated in 0.18 and will be removed in 0.20.\n",
      "  warnings.warn(msg, category=DeprecationWarning)\n",
      "/home/mukund/anaconda3/lib/python3.8/site-packages/sklearn/utils/deprecation.py:77: DeprecationWarning: Function log_multivariate_normal_density is deprecated; The function log_multivariate_normal_density is deprecated in 0.18 and will be removed in 0.20.\n",
      "  warnings.warn(msg, category=DeprecationWarning)\n"
     ]
    },
    {
     "name": "stdout",
     "output_type": "stream",
     "text": [
      "+ FEMALE SCORE     : 962.657\n",
      "+ MALE SCORE       : 3226.127\n",
      "+ EXPECTATION      : male\n",
      "+ IDENTIFICATION   : male\n",
      "----------------------------------------------------\n",
      "--> TESTING        : MaleSad59.wav\n",
      "+ FEMALE SCORE     : 553.258\n",
      "+ MALE SCORE       : 615.066\n",
      "+ EXPECTATION      : male\n",
      "+ IDENTIFICATION   : male\n",
      "----------------------------------------------------\n",
      "--> TESTING        : MaleSad64.wav\n"
     ]
    },
    {
     "name": "stderr",
     "output_type": "stream",
     "text": [
      "/home/mukund/anaconda3/lib/python3.8/site-packages/sklearn/utils/deprecation.py:77: DeprecationWarning: Function log_multivariate_normal_density is deprecated; The function log_multivariate_normal_density is deprecated in 0.18 and will be removed in 0.20.\n",
      "  warnings.warn(msg, category=DeprecationWarning)\n",
      "/home/mukund/anaconda3/lib/python3.8/site-packages/sklearn/utils/deprecation.py:77: DeprecationWarning: Function log_multivariate_normal_density is deprecated; The function log_multivariate_normal_density is deprecated in 0.18 and will be removed in 0.20.\n",
      "  warnings.warn(msg, category=DeprecationWarning)\n"
     ]
    },
    {
     "name": "stdout",
     "output_type": "stream",
     "text": [
      "+ FEMALE SCORE     : -1983.988\n",
      "+ MALE SCORE       : -413.409\n",
      "+ EXPECTATION      : male\n",
      "+ IDENTIFICATION   : male\n",
      "----------------------------------------------------\n",
      "--> TESTING        : MaleSad2.wav\n"
     ]
    },
    {
     "name": "stderr",
     "output_type": "stream",
     "text": [
      "/home/mukund/anaconda3/lib/python3.8/site-packages/sklearn/utils/deprecation.py:77: DeprecationWarning: Function log_multivariate_normal_density is deprecated; The function log_multivariate_normal_density is deprecated in 0.18 and will be removed in 0.20.\n",
      "  warnings.warn(msg, category=DeprecationWarning)\n",
      "/home/mukund/anaconda3/lib/python3.8/site-packages/sklearn/utils/deprecation.py:77: DeprecationWarning: Function log_multivariate_normal_density is deprecated; The function log_multivariate_normal_density is deprecated in 0.18 and will be removed in 0.20.\n",
      "  warnings.warn(msg, category=DeprecationWarning)\n",
      "/home/mukund/anaconda3/lib/python3.8/site-packages/sklearn/utils/deprecation.py:77: DeprecationWarning: Function log_multivariate_normal_density is deprecated; The function log_multivariate_normal_density is deprecated in 0.18 and will be removed in 0.20.\n",
      "  warnings.warn(msg, category=DeprecationWarning)\n",
      "/home/mukund/anaconda3/lib/python3.8/site-packages/sklearn/utils/deprecation.py:77: DeprecationWarning: Function log_multivariate_normal_density is deprecated; The function log_multivariate_normal_density is deprecated in 0.18 and will be removed in 0.20.\n",
      "  warnings.warn(msg, category=DeprecationWarning)\n"
     ]
    },
    {
     "name": "stdout",
     "output_type": "stream",
     "text": [
      "+ FEMALE SCORE     : 1893.449\n",
      "+ MALE SCORE       : 3716.093\n",
      "+ EXPECTATION      : male\n",
      "+ IDENTIFICATION   : male\n",
      "----------------------------------------------------\n",
      "--> TESTING        : MaleSad48.wav\n",
      "+ FEMALE SCORE     : 457.539\n",
      "+ MALE SCORE       : 627.102\n",
      "+ EXPECTATION      : male\n",
      "+ IDENTIFICATION   : male\n",
      "----------------------------------------------------\n",
      "--> TESTING        : MaleSad72.wav\n"
     ]
    },
    {
     "name": "stderr",
     "output_type": "stream",
     "text": [
      "/home/mukund/anaconda3/lib/python3.8/site-packages/sklearn/utils/deprecation.py:77: DeprecationWarning: Function log_multivariate_normal_density is deprecated; The function log_multivariate_normal_density is deprecated in 0.18 and will be removed in 0.20.\n",
      "  warnings.warn(msg, category=DeprecationWarning)\n",
      "/home/mukund/anaconda3/lib/python3.8/site-packages/sklearn/utils/deprecation.py:77: DeprecationWarning: Function log_multivariate_normal_density is deprecated; The function log_multivariate_normal_density is deprecated in 0.18 and will be removed in 0.20.\n",
      "  warnings.warn(msg, category=DeprecationWarning)\n",
      "/home/mukund/anaconda3/lib/python3.8/site-packages/sklearn/utils/deprecation.py:77: DeprecationWarning: Function log_multivariate_normal_density is deprecated; The function log_multivariate_normal_density is deprecated in 0.18 and will be removed in 0.20.\n",
      "  warnings.warn(msg, category=DeprecationWarning)\n",
      "/home/mukund/anaconda3/lib/python3.8/site-packages/sklearn/utils/deprecation.py:77: DeprecationWarning: Function log_multivariate_normal_density is deprecated; The function log_multivariate_normal_density is deprecated in 0.18 and will be removed in 0.20.\n",
      "  warnings.warn(msg, category=DeprecationWarning)\n"
     ]
    },
    {
     "name": "stdout",
     "output_type": "stream",
     "text": [
      "+ FEMALE SCORE     : -588.097\n",
      "+ MALE SCORE       : 451.922\n",
      "+ EXPECTATION      : male\n",
      "+ IDENTIFICATION   : male\n",
      "----------------------------------------------------\n",
      "--> TESTING        : MaleSad55.wav\n",
      "+ FEMALE SCORE     : 239.847\n",
      "+ MALE SCORE       : 593.651\n",
      "+ EXPECTATION      : male\n",
      "+ IDENTIFICATION   : male\n",
      "----------------------------------------------------\n",
      "--> TESTING        : MaleSad9.wav\n"
     ]
    },
    {
     "name": "stderr",
     "output_type": "stream",
     "text": [
      "/home/mukund/anaconda3/lib/python3.8/site-packages/sklearn/utils/deprecation.py:77: DeprecationWarning: Function log_multivariate_normal_density is deprecated; The function log_multivariate_normal_density is deprecated in 0.18 and will be removed in 0.20.\n",
      "  warnings.warn(msg, category=DeprecationWarning)\n",
      "/home/mukund/anaconda3/lib/python3.8/site-packages/sklearn/utils/deprecation.py:77: DeprecationWarning: Function log_multivariate_normal_density is deprecated; The function log_multivariate_normal_density is deprecated in 0.18 and will be removed in 0.20.\n",
      "  warnings.warn(msg, category=DeprecationWarning)\n",
      "/home/mukund/anaconda3/lib/python3.8/site-packages/sklearn/utils/deprecation.py:77: DeprecationWarning: Function log_multivariate_normal_density is deprecated; The function log_multivariate_normal_density is deprecated in 0.18 and will be removed in 0.20.\n",
      "  warnings.warn(msg, category=DeprecationWarning)\n",
      "/home/mukund/anaconda3/lib/python3.8/site-packages/sklearn/utils/deprecation.py:77: DeprecationWarning: Function log_multivariate_normal_density is deprecated; The function log_multivariate_normal_density is deprecated in 0.18 and will be removed in 0.20.\n",
      "  warnings.warn(msg, category=DeprecationWarning)\n"
     ]
    },
    {
     "name": "stdout",
     "output_type": "stream",
     "text": [
      "+ FEMALE SCORE     : 1883.057\n",
      "+ MALE SCORE       : 4114.175\n",
      "+ EXPECTATION      : male\n",
      "+ IDENTIFICATION   : male\n",
      "----------------------------------------------------\n",
      "--> TESTING        : MaleSad8.wav\n",
      "+ FEMALE SCORE     : 1537.531\n",
      "+ MALE SCORE       : 3434.768\n",
      "+ EXPECTATION      : male\n",
      "+ IDENTIFICATION   : male\n",
      "----------------------------------------------------\n",
      "--> TESTING        : MaleSad65.wav\n"
     ]
    },
    {
     "name": "stderr",
     "output_type": "stream",
     "text": [
      "/home/mukund/anaconda3/lib/python3.8/site-packages/sklearn/utils/deprecation.py:77: DeprecationWarning: Function log_multivariate_normal_density is deprecated; The function log_multivariate_normal_density is deprecated in 0.18 and will be removed in 0.20.\n",
      "  warnings.warn(msg, category=DeprecationWarning)\n",
      "/home/mukund/anaconda3/lib/python3.8/site-packages/sklearn/utils/deprecation.py:77: DeprecationWarning: Function log_multivariate_normal_density is deprecated; The function log_multivariate_normal_density is deprecated in 0.18 and will be removed in 0.20.\n",
      "  warnings.warn(msg, category=DeprecationWarning)\n",
      "/home/mukund/anaconda3/lib/python3.8/site-packages/sklearn/utils/deprecation.py:77: DeprecationWarning: Function log_multivariate_normal_density is deprecated; The function log_multivariate_normal_density is deprecated in 0.18 and will be removed in 0.20.\n",
      "  warnings.warn(msg, category=DeprecationWarning)\n",
      "/home/mukund/anaconda3/lib/python3.8/site-packages/sklearn/utils/deprecation.py:77: DeprecationWarning: Function log_multivariate_normal_density is deprecated; The function log_multivariate_normal_density is deprecated in 0.18 and will be removed in 0.20.\n",
      "  warnings.warn(msg, category=DeprecationWarning)\n"
     ]
    },
    {
     "name": "stdout",
     "output_type": "stream",
     "text": [
      "+ FEMALE SCORE     : -4449.325\n",
      "+ MALE SCORE       : -1528.269\n",
      "+ EXPECTATION      : male\n",
      "+ IDENTIFICATION   : male\n",
      "----------------------------------------------------\n",
      "--> TESTING        : MaleSad1.wav\n",
      "+ FEMALE SCORE     : 667.977\n",
      "+ MALE SCORE       : 2396.473\n",
      "+ EXPECTATION      : male\n",
      "+ IDENTIFICATION   : male\n",
      "----------------------------------------------------\n",
      "--> TESTING        : MaleSad47.wav\n"
     ]
    },
    {
     "name": "stderr",
     "output_type": "stream",
     "text": [
      "/home/mukund/anaconda3/lib/python3.8/site-packages/sklearn/utils/deprecation.py:77: DeprecationWarning: Function log_multivariate_normal_density is deprecated; The function log_multivariate_normal_density is deprecated in 0.18 and will be removed in 0.20.\n",
      "  warnings.warn(msg, category=DeprecationWarning)\n",
      "/home/mukund/anaconda3/lib/python3.8/site-packages/sklearn/utils/deprecation.py:77: DeprecationWarning: Function log_multivariate_normal_density is deprecated; The function log_multivariate_normal_density is deprecated in 0.18 and will be removed in 0.20.\n",
      "  warnings.warn(msg, category=DeprecationWarning)\n",
      "/home/mukund/anaconda3/lib/python3.8/site-packages/sklearn/utils/deprecation.py:77: DeprecationWarning: Function log_multivariate_normal_density is deprecated; The function log_multivariate_normal_density is deprecated in 0.18 and will be removed in 0.20.\n",
      "  warnings.warn(msg, category=DeprecationWarning)\n",
      "/home/mukund/anaconda3/lib/python3.8/site-packages/sklearn/utils/deprecation.py:77: DeprecationWarning: Function log_multivariate_normal_density is deprecated; The function log_multivariate_normal_density is deprecated in 0.18 and will be removed in 0.20.\n",
      "  warnings.warn(msg, category=DeprecationWarning)\n"
     ]
    },
    {
     "name": "stdout",
     "output_type": "stream",
     "text": [
      "+ FEMALE SCORE     : 39.37\n",
      "+ MALE SCORE       : 291.858\n",
      "+ EXPECTATION      : male\n",
      "+ IDENTIFICATION   : male\n",
      "----------------------------------------------------\n",
      "--> TESTING        : MaleSad50.wav\n",
      "+ FEMALE SCORE     : -1106.296\n",
      "+ MALE SCORE       : -1100.116\n",
      "+ EXPECTATION      : male\n",
      "+ IDENTIFICATION   : male\n",
      "----------------------------------------------------\n",
      "--> TESTING        : MaleSad11.wav\n"
     ]
    },
    {
     "name": "stderr",
     "output_type": "stream",
     "text": [
      "/home/mukund/anaconda3/lib/python3.8/site-packages/sklearn/utils/deprecation.py:77: DeprecationWarning: Function log_multivariate_normal_density is deprecated; The function log_multivariate_normal_density is deprecated in 0.18 and will be removed in 0.20.\n",
      "  warnings.warn(msg, category=DeprecationWarning)\n",
      "/home/mukund/anaconda3/lib/python3.8/site-packages/sklearn/utils/deprecation.py:77: DeprecationWarning: Function log_multivariate_normal_density is deprecated; The function log_multivariate_normal_density is deprecated in 0.18 and will be removed in 0.20.\n",
      "  warnings.warn(msg, category=DeprecationWarning)\n",
      "/home/mukund/anaconda3/lib/python3.8/site-packages/sklearn/utils/deprecation.py:77: DeprecationWarning: Function log_multivariate_normal_density is deprecated; The function log_multivariate_normal_density is deprecated in 0.18 and will be removed in 0.20.\n",
      "  warnings.warn(msg, category=DeprecationWarning)\n",
      "/home/mukund/anaconda3/lib/python3.8/site-packages/sklearn/utils/deprecation.py:77: DeprecationWarning: Function log_multivariate_normal_density is deprecated; The function log_multivariate_normal_density is deprecated in 0.18 and will be removed in 0.20.\n",
      "  warnings.warn(msg, category=DeprecationWarning)\n"
     ]
    },
    {
     "name": "stdout",
     "output_type": "stream",
     "text": [
      "+ FEMALE SCORE     : 1842.255\n",
      "+ MALE SCORE       : 3124.452\n",
      "+ EXPECTATION      : male\n",
      "+ IDENTIFICATION   : male\n",
      "----------------------------------------------------\n",
      "--> TESTING        : MaleSad43.wav\n",
      "+ FEMALE SCORE     : -184.25\n",
      "+ MALE SCORE       : 155.853\n",
      "+ EXPECTATION      : male\n",
      "+ IDENTIFICATION   : male\n",
      "----------------------------------------------------\n",
      "--> TESTING        : MaleSad3.wav\n"
     ]
    },
    {
     "name": "stderr",
     "output_type": "stream",
     "text": [
      "/home/mukund/anaconda3/lib/python3.8/site-packages/sklearn/utils/deprecation.py:77: DeprecationWarning: Function log_multivariate_normal_density is deprecated; The function log_multivariate_normal_density is deprecated in 0.18 and will be removed in 0.20.\n",
      "  warnings.warn(msg, category=DeprecationWarning)\n",
      "/home/mukund/anaconda3/lib/python3.8/site-packages/sklearn/utils/deprecation.py:77: DeprecationWarning: Function log_multivariate_normal_density is deprecated; The function log_multivariate_normal_density is deprecated in 0.18 and will be removed in 0.20.\n",
      "  warnings.warn(msg, category=DeprecationWarning)\n",
      "/home/mukund/anaconda3/lib/python3.8/site-packages/sklearn/utils/deprecation.py:77: DeprecationWarning: Function log_multivariate_normal_density is deprecated; The function log_multivariate_normal_density is deprecated in 0.18 and will be removed in 0.20.\n",
      "  warnings.warn(msg, category=DeprecationWarning)\n",
      "/home/mukund/anaconda3/lib/python3.8/site-packages/sklearn/utils/deprecation.py:77: DeprecationWarning: Function log_multivariate_normal_density is deprecated; The function log_multivariate_normal_density is deprecated in 0.18 and will be removed in 0.20.\n",
      "  warnings.warn(msg, category=DeprecationWarning)\n"
     ]
    },
    {
     "name": "stdout",
     "output_type": "stream",
     "text": [
      "+ FEMALE SCORE     : 1027.871\n",
      "+ MALE SCORE       : 2623.37\n",
      "+ EXPECTATION      : male\n",
      "+ IDENTIFICATION   : male\n",
      "----------------------------------------------------\n",
      "--> TESTING        : MaleSad61.wav\n",
      "+ FEMALE SCORE     : -3529.67\n",
      "+ MALE SCORE       : -932.494\n",
      "+ EXPECTATION      : male\n",
      "+ IDENTIFICATION   : male\n",
      "----------------------------------------------------\n",
      "--> TESTING        : MaleSad60.wav\n"
     ]
    },
    {
     "name": "stderr",
     "output_type": "stream",
     "text": [
      "/home/mukund/anaconda3/lib/python3.8/site-packages/sklearn/utils/deprecation.py:77: DeprecationWarning: Function log_multivariate_normal_density is deprecated; The function log_multivariate_normal_density is deprecated in 0.18 and will be removed in 0.20.\n",
      "  warnings.warn(msg, category=DeprecationWarning)\n",
      "/home/mukund/anaconda3/lib/python3.8/site-packages/sklearn/utils/deprecation.py:77: DeprecationWarning: Function log_multivariate_normal_density is deprecated; The function log_multivariate_normal_density is deprecated in 0.18 and will be removed in 0.20.\n",
      "  warnings.warn(msg, category=DeprecationWarning)\n",
      "/home/mukund/anaconda3/lib/python3.8/site-packages/sklearn/utils/deprecation.py:77: DeprecationWarning: Function log_multivariate_normal_density is deprecated; The function log_multivariate_normal_density is deprecated in 0.18 and will be removed in 0.20.\n",
      "  warnings.warn(msg, category=DeprecationWarning)\n",
      "/home/mukund/anaconda3/lib/python3.8/site-packages/sklearn/utils/deprecation.py:77: DeprecationWarning: Function log_multivariate_normal_density is deprecated; The function log_multivariate_normal_density is deprecated in 0.18 and will be removed in 0.20.\n",
      "  warnings.warn(msg, category=DeprecationWarning)\n"
     ]
    },
    {
     "name": "stdout",
     "output_type": "stream",
     "text": [
      "+ FEMALE SCORE     : 395.648\n",
      "+ MALE SCORE       : 404.188\n",
      "+ EXPECTATION      : male\n",
      "+ IDENTIFICATION   : male\n",
      "----------------------------------------------------\n",
      "--> TESTING        : MaleSad56.wav\n",
      "+ FEMALE SCORE     : 376.456\n",
      "+ MALE SCORE       : 530.288\n",
      "+ EXPECTATION      : male\n",
      "+ IDENTIFICATION   : male\n",
      "----------------------------------------------------\n",
      "--> TESTING        : MaleSad40.wav\n"
     ]
    },
    {
     "name": "stderr",
     "output_type": "stream",
     "text": [
      "/home/mukund/anaconda3/lib/python3.8/site-packages/sklearn/utils/deprecation.py:77: DeprecationWarning: Function log_multivariate_normal_density is deprecated; The function log_multivariate_normal_density is deprecated in 0.18 and will be removed in 0.20.\n",
      "  warnings.warn(msg, category=DeprecationWarning)\n",
      "/home/mukund/anaconda3/lib/python3.8/site-packages/sklearn/utils/deprecation.py:77: DeprecationWarning: Function log_multivariate_normal_density is deprecated; The function log_multivariate_normal_density is deprecated in 0.18 and will be removed in 0.20.\n",
      "  warnings.warn(msg, category=DeprecationWarning)\n",
      "/home/mukund/anaconda3/lib/python3.8/site-packages/sklearn/utils/deprecation.py:77: DeprecationWarning: Function log_multivariate_normal_density is deprecated; The function log_multivariate_normal_density is deprecated in 0.18 and will be removed in 0.20.\n",
      "  warnings.warn(msg, category=DeprecationWarning)\n",
      "/home/mukund/anaconda3/lib/python3.8/site-packages/sklearn/utils/deprecation.py:77: DeprecationWarning: Function log_multivariate_normal_density is deprecated; The function log_multivariate_normal_density is deprecated in 0.18 and will be removed in 0.20.\n",
      "  warnings.warn(msg, category=DeprecationWarning)\n"
     ]
    },
    {
     "name": "stdout",
     "output_type": "stream",
     "text": [
      "+ FEMALE SCORE     : 890.393\n",
      "+ MALE SCORE       : 881.125\n",
      "+ EXPECTATION      : male\n",
      "+ IDENTIFICATION   : female\n",
      "----------------------------------------------------\n",
      "--> TESTING        : MaleSad58.wav\n",
      "+ FEMALE SCORE     : 570.918\n",
      "+ MALE SCORE       : 660.208\n",
      "+ EXPECTATION      : male\n",
      "+ IDENTIFICATION   : male\n",
      "----------------------------------------------------\n",
      "--> TESTING        : MaleSad67.wav\n"
     ]
    },
    {
     "name": "stderr",
     "output_type": "stream",
     "text": [
      "/home/mukund/anaconda3/lib/python3.8/site-packages/sklearn/utils/deprecation.py:77: DeprecationWarning: Function log_multivariate_normal_density is deprecated; The function log_multivariate_normal_density is deprecated in 0.18 and will be removed in 0.20.\n",
      "  warnings.warn(msg, category=DeprecationWarning)\n",
      "/home/mukund/anaconda3/lib/python3.8/site-packages/sklearn/utils/deprecation.py:77: DeprecationWarning: Function log_multivariate_normal_density is deprecated; The function log_multivariate_normal_density is deprecated in 0.18 and will be removed in 0.20.\n",
      "  warnings.warn(msg, category=DeprecationWarning)\n",
      "/home/mukund/anaconda3/lib/python3.8/site-packages/sklearn/utils/deprecation.py:77: DeprecationWarning: Function log_multivariate_normal_density is deprecated; The function log_multivariate_normal_density is deprecated in 0.18 and will be removed in 0.20.\n",
      "  warnings.warn(msg, category=DeprecationWarning)\n",
      "/home/mukund/anaconda3/lib/python3.8/site-packages/sklearn/utils/deprecation.py:77: DeprecationWarning: Function log_multivariate_normal_density is deprecated; The function log_multivariate_normal_density is deprecated in 0.18 and will be removed in 0.20.\n",
      "  warnings.warn(msg, category=DeprecationWarning)\n"
     ]
    },
    {
     "name": "stdout",
     "output_type": "stream",
     "text": [
      "+ FEMALE SCORE     : -3494.138\n",
      "+ MALE SCORE       : -907.187\n",
      "+ EXPECTATION      : male\n",
      "+ IDENTIFICATION   : male\n",
      "----------------------------------------------------\n",
      "--> TESTING        : MaleSad49.wav\n",
      "+ FEMALE SCORE     : -135.827\n",
      "+ MALE SCORE       : -26.724\n",
      "+ EXPECTATION      : male\n",
      "+ IDENTIFICATION   : male\n",
      "----------------------------------------------------\n",
      "--> TESTING        : MaleSad4.wav\n"
     ]
    },
    {
     "name": "stderr",
     "output_type": "stream",
     "text": [
      "/home/mukund/anaconda3/lib/python3.8/site-packages/sklearn/utils/deprecation.py:77: DeprecationWarning: Function log_multivariate_normal_density is deprecated; The function log_multivariate_normal_density is deprecated in 0.18 and will be removed in 0.20.\n",
      "  warnings.warn(msg, category=DeprecationWarning)\n",
      "/home/mukund/anaconda3/lib/python3.8/site-packages/sklearn/utils/deprecation.py:77: DeprecationWarning: Function log_multivariate_normal_density is deprecated; The function log_multivariate_normal_density is deprecated in 0.18 and will be removed in 0.20.\n",
      "  warnings.warn(msg, category=DeprecationWarning)\n",
      "/home/mukund/anaconda3/lib/python3.8/site-packages/sklearn/utils/deprecation.py:77: DeprecationWarning: Function log_multivariate_normal_density is deprecated; The function log_multivariate_normal_density is deprecated in 0.18 and will be removed in 0.20.\n",
      "  warnings.warn(msg, category=DeprecationWarning)\n",
      "/home/mukund/anaconda3/lib/python3.8/site-packages/sklearn/utils/deprecation.py:77: DeprecationWarning: Function log_multivariate_normal_density is deprecated; The function log_multivariate_normal_density is deprecated in 0.18 and will be removed in 0.20.\n",
      "  warnings.warn(msg, category=DeprecationWarning)\n"
     ]
    },
    {
     "name": "stdout",
     "output_type": "stream",
     "text": [
      "+ FEMALE SCORE     : 2374.675\n",
      "+ MALE SCORE       : 4149.025\n",
      "+ EXPECTATION      : male\n",
      "+ IDENTIFICATION   : male\n",
      "----------------------------------------------------\n",
      "--> TESTING        : MaleSad44.wav\n",
      "+ FEMALE SCORE     : 377.347\n",
      "+ MALE SCORE       : 508.346\n",
      "+ EXPECTATION      : male\n",
      "+ IDENTIFICATION   : male\n",
      "----------------------------------------------------\n",
      "--> TESTING        : MaleSad38.wav\n"
     ]
    },
    {
     "name": "stderr",
     "output_type": "stream",
     "text": [
      "/home/mukund/anaconda3/lib/python3.8/site-packages/sklearn/utils/deprecation.py:77: DeprecationWarning: Function log_multivariate_normal_density is deprecated; The function log_multivariate_normal_density is deprecated in 0.18 and will be removed in 0.20.\n",
      "  warnings.warn(msg, category=DeprecationWarning)\n",
      "/home/mukund/anaconda3/lib/python3.8/site-packages/sklearn/utils/deprecation.py:77: DeprecationWarning: Function log_multivariate_normal_density is deprecated; The function log_multivariate_normal_density is deprecated in 0.18 and will be removed in 0.20.\n",
      "  warnings.warn(msg, category=DeprecationWarning)\n",
      "/home/mukund/anaconda3/lib/python3.8/site-packages/sklearn/utils/deprecation.py:77: DeprecationWarning: Function log_multivariate_normal_density is deprecated; The function log_multivariate_normal_density is deprecated in 0.18 and will be removed in 0.20.\n",
      "  warnings.warn(msg, category=DeprecationWarning)\n",
      "/home/mukund/anaconda3/lib/python3.8/site-packages/sklearn/utils/deprecation.py:77: DeprecationWarning: Function log_multivariate_normal_density is deprecated; The function log_multivariate_normal_density is deprecated in 0.18 and will be removed in 0.20.\n",
      "  warnings.warn(msg, category=DeprecationWarning)\n",
      "/home/mukund/anaconda3/lib/python3.8/site-packages/sklearn/utils/deprecation.py:77: DeprecationWarning: Function log_multivariate_normal_density is deprecated; The function log_multivariate_normal_density is deprecated in 0.18 and will be removed in 0.20.\n",
      "  warnings.warn(msg, category=DeprecationWarning)\n",
      "/home/mukund/anaconda3/lib/python3.8/site-packages/sklearn/utils/deprecation.py:77: DeprecationWarning: Function log_multivariate_normal_density is deprecated; The function log_multivariate_normal_density is deprecated in 0.18 and will be removed in 0.20.\n",
      "  warnings.warn(msg, category=DeprecationWarning)\n"
     ]
    },
    {
     "name": "stdout",
     "output_type": "stream",
     "text": [
      "+ FEMALE SCORE     : 431.8\n",
      "+ MALE SCORE       : 680.146\n",
      "+ EXPECTATION      : male\n",
      "+ IDENTIFICATION   : male\n",
      "----------------------------------------------------\n",
      "--> TESTING        : MaleSad37.wav\n",
      "+ FEMALE SCORE     : 158.113\n",
      "+ MALE SCORE       : 396.401\n",
      "+ EXPECTATION      : male\n",
      "+ IDENTIFICATION   : male\n",
      "----------------------------------------------------\n",
      "--> TESTING        : MaleSad39.wav\n",
      "+ FEMALE SCORE     : 335.004\n",
      "+ MALE SCORE       : 534.184\n",
      "+ EXPECTATION      : male\n",
      "+ IDENTIFICATION   : male\n",
      "----------------------------------------------------\n",
      "--> TESTING        : MaleSad5.wav\n",
      "+ FEMALE SCORE     : 1228.882\n",
      "+ MALE SCORE       : 3140.733\n",
      "+ EXPECTATION      : male\n",
      "+ IDENTIFICATION   : male\n",
      "----------------------------------------------------\n",
      "*** Accuracy = 97.059% ***\n"
     ]
    },
    {
     "name": "stderr",
     "output_type": "stream",
     "text": [
      "/home/mukund/anaconda3/lib/python3.8/site-packages/sklearn/utils/deprecation.py:77: DeprecationWarning: Function log_multivariate_normal_density is deprecated; The function log_multivariate_normal_density is deprecated in 0.18 and will be removed in 0.20.\n",
      "  warnings.warn(msg, category=DeprecationWarning)\n",
      "/home/mukund/anaconda3/lib/python3.8/site-packages/sklearn/utils/deprecation.py:77: DeprecationWarning: Function log_multivariate_normal_density is deprecated; The function log_multivariate_normal_density is deprecated in 0.18 and will be removed in 0.20.\n",
      "  warnings.warn(msg, category=DeprecationWarning)\n"
     ]
    }
   ],
   "source": [
    "\n",
    "class GenderIdentifier:\n",
    "\n",
    "    def __init__(self, females_files_path, males_files_path, females_model_path, males_model_path):\n",
    "        self.females_training_path = females_files_path\n",
    "        self.males_training_path   = males_files_path\n",
    "        self.error                 = 0\n",
    "        self.total_sample          = 0\n",
    "        self.features_extractor    = FeaturesExtractor()\n",
    "        # load models\n",
    "        self.females_gmm = pickle.load(open(females_model_path, 'rb'))\n",
    "        self.males_gmm   = pickle.load(open(males_model_path, 'rb'))\n",
    "\n",
    "    def process(self):\n",
    "        files = self.get_file_paths(self.females_training_path, self.males_training_path)\n",
    "        # read the test directory and get the list of test audio files\n",
    "        for file in files:\n",
    "            self.total_sample += 1\n",
    "            print(\"%10s %8s %1s\" % (\"--> TESTING\", \":\", os.path.basename(file)))\n",
    "\n",
    "            vector = self.features_extractor.extract_features(file)\n",
    "            winner = self.identify_gender(vector)\n",
    "            expected_gender = file.split(\"/\")[1][:-1]\n",
    "            y_true.append(expected_gender)\n",
    "            y_pred.append(winner)\n",
    "            \n",
    "            print(\"%10s %6s %1s\" % (\"+ EXPECTATION\",\":\", expected_gender))\n",
    "            print(\"%10s %3s %1s\" %  (\"+ IDENTIFICATION\", \":\", winner))\n",
    "\n",
    "            if winner != expected_gender: self.error += 1\n",
    "            print(\"----------------------------------------------------\")\n",
    "\n",
    "        accuracy     = ( float(self.total_sample - self.error) / float(self.total_sample) ) * 100\n",
    "        accuracy_msg = \"*** Accuracy = \" + str(round(accuracy, 3)) + \"% ***\"\n",
    "        print(accuracy_msg)\n",
    "\n",
    "    def get_file_paths(self, females_training_path, males_training_path):\n",
    "        # get file paths\n",
    "        females = [ os.path.join(females_training_path, f) for f in os.listdir(females_training_path) ]\n",
    "        males   = [ os.path.join(males_training_path, f) for f in os.listdir(males_training_path) ]\n",
    "        files   = females + males\n",
    "        return files\n",
    "\n",
    "    def identify_gender(self, vector):\n",
    "        # female hypothesis scoring\n",
    "        is_female_scores         = np.array(self.females_gmm.score(vector))\n",
    "        is_female_log_likelihood = is_female_scores.sum()\n",
    "        # male hypothesis scoring\n",
    "        is_male_scores         = np.array(self.males_gmm.score(vector))\n",
    "        is_male_log_likelihood = is_male_scores.sum()\n",
    "\n",
    "        print(\"%10s %5s %1s\" % (\"+ FEMALE SCORE\",\":\", str(round(is_female_log_likelihood, 3))))\n",
    "        print(\"%10s %7s %1s\" % (\"+ MALE SCORE\", \":\", str(round(is_male_log_likelihood,3))))\n",
    "\n",
    "        if is_male_log_likelihood > is_female_log_likelihood: winner = \"male\"\n",
    "        else                                                : winner = \"female\"\n",
    "        return winner\n",
    "\n",
    "\n",
    "if __name__== \"__main__\":\n",
    "    gender_identifier = GenderIdentifier(\"TestingData/females\", \"TestingData/males\", \"females.gmm\", \"males.gmm\")\n",
    "    gender_identifier.process()"
   ]
  },
  {
   "cell_type": "code",
   "execution_count": 30,
   "metadata": {},
   "outputs": [],
   "source": [
    "import numpy as np\n",
    "import matplotlib.pyplot as plt\n",
    "import seaborn as sns\n",
    "\n",
    "def make_confusion_matrix(cf,\n",
    "                          group_names=None,\n",
    "                          categories='auto',\n",
    "                          count=True,\n",
    "                          percent=True,\n",
    "                          cbar=True,\n",
    "                          xyticks=True,\n",
    "                          xyplotlabels=True,\n",
    "                          sum_stats=True,\n",
    "                          figsize=None,\n",
    "                          cmap='Blues',\n",
    "                          title=None):\n",
    "    '''\n",
    "    This function will make a pretty plot of an sklearn Confusion Matrix cm using a Seaborn heatmap visualization.\n",
    "    Arguments\n",
    "    ---------\n",
    "    cf:            confusion matrix to be passed in\n",
    "    group_names:   List of strings that represent the labels row by row to be shown in each square.\n",
    "    categories:    List of strings containing the categories to be displayed on the x,y axis. Default is 'auto'\n",
    "    count:         If True, show the raw number in the confusion matrix. Default is True.\n",
    "    normalize:     If True, show the proportions for each category. Default is True.\n",
    "    cbar:          If True, show the color bar. The cbar values are based off the values in the confusion matrix.\n",
    "                   Default is True.\n",
    "    xyticks:       If True, show x and y ticks. Default is True.\n",
    "    xyplotlabels:  If True, show 'True Label' and 'Predicted Label' on the figure. Default is True.\n",
    "    sum_stats:     If True, display summary statistics below the figure. Default is True.\n",
    "    figsize:       Tuple representing the figure size. Default will be the matplotlib rcParams value.\n",
    "    cmap:          Colormap of the values displayed from matplotlib.pyplot.cm. Default is 'Blues'\n",
    "                   See http://matplotlib.org/examples/color/colormaps_reference.html\n",
    "                   \n",
    "    title:         Title for the heatmap. Default is None.\n",
    "    '''\n",
    "\n",
    "\n",
    "    # CODE TO GENERATE TEXT INSIDE EACH SQUARE\n",
    "    blanks = ['' for i in range(cf.size)]\n",
    "\n",
    "    if group_names and len(group_names)==cf.size:\n",
    "        group_labels = [\"{}\\n\".format(value) for value in group_names]\n",
    "    else:\n",
    "        group_labels = blanks\n",
    "\n",
    "    if count:\n",
    "        group_counts = [\"{0:0.0f}\\n\".format(value) for value in cf.flatten()]\n",
    "    else:\n",
    "        group_counts = blanks\n",
    "\n",
    "    if percent:\n",
    "        group_percentages = [\"{0:.2%}\".format(value) for value in cf.flatten()/np.sum(cf)]\n",
    "    else:\n",
    "        group_percentages = blanks\n",
    "\n",
    "    box_labels = [f\"{v1}{v2}{v3}\".strip() for v1, v2, v3 in zip(group_labels,group_counts,group_percentages)]\n",
    "    box_labels = np.asarray(box_labels).reshape(cf.shape[0],cf.shape[1])\n",
    "\n",
    "\n",
    "    # CODE TO GENERATE SUMMARY STATISTICS & TEXT FOR SUMMARY STATS\n",
    "    if sum_stats:\n",
    "        #Accuracy is sum of diagonal divided by total observations\n",
    "        accuracy  = np.trace(cf) / float(np.sum(cf))\n",
    "\n",
    "        #if it is a binary confusion matrix, show some more stats\n",
    "        if len(cf)==2:\n",
    "            #Metrics for Binary Confusion Matrices\n",
    "            precision = cf[1,1] / sum(cf[:,1])\n",
    "            recall    = cf[1,1] / sum(cf[1,:])\n",
    "            f1_score  = 2*precision*recall / (precision + recall)\n",
    "            stats_text = \"\\n\\nAccuracy={:0.3f}\\nPrecision={:0.3f}\\nRecall={:0.3f}\\nF1 Score={:0.3f}\".format(\n",
    "                accuracy,precision,recall,f1_score)\n",
    "        else:\n",
    "            stats_text = \"\\n\\nAccuracy={:0.3f}\".format(accuracy)\n",
    "    else:\n",
    "        stats_text = \"\"\n",
    "\n",
    "\n",
    "    # SET FIGURE PARAMETERS ACCORDING TO OTHER ARGUMENTS\n",
    "    if figsize==None:\n",
    "        #Get default figure size if not set\n",
    "        figsize = plt.rcParams.get('figure.figsize')\n",
    "\n",
    "    if xyticks==False:\n",
    "        #Do not show categories if xyticks is False\n",
    "        categories=False\n",
    "\n",
    "\n",
    "    # MAKE THE HEATMAP VISUALIZATION\n",
    "    plt.figure(figsize=figsize)\n",
    "    sns.heatmap(cf,annot=box_labels,fmt=\"\",cmap=cmap,cbar=cbar,xticklabels=categories,yticklabels=categories)\n",
    "\n",
    "    if xyplotlabels:\n",
    "        plt.ylabel('True label')\n",
    "        plt.xlabel('Predicted label' + stats_text)\n",
    "    else:\n",
    "        plt.xlabel(stats_text)\n",
    "    \n",
    "    if title:\n",
    "        plt.title(title)\n"
   ]
  },
  {
   "cell_type": "code",
   "execution_count": 31,
   "metadata": {},
   "outputs": [
    {
     "data": {
      "image/png": "[encoded data removed]",
      "text/plain": [
       "<Figure size 432x288 with 2 Axes>"
      ]
     },
     "metadata": {
      "needs_background": "light"
     },
     "output_type": "display_data"
    }
   ],
   "source": [
    "labels = ['True Neg','False Pos','False Neg','True Pos']\n",
    "categories = ['Zero', 'One']\n",
    "make_confusion_matrix(cm, \n",
    "                      group_names=labels,\n",
    "                      categories=categories, \n",
    "                      cmap='binary')"
   ]
  },
  {
   "cell_type": "code",
   "execution_count": 32,
   "metadata": {},
   "outputs": [
    {
     "data": {
      "image/png": "[encoded data removed]",
      "text/plain": [
       "<Figure size 576x432 with 1 Axes>"
      ]
     },
     "metadata": {
      "needs_background": "light"
     },
     "output_type": "display_data"
    }
   ],
   "source": [
    "make_confusion_matrix(cm, figsize=(8,6), cbar=False)"
   ]
  },
  {
   "cell_type": "code",
   "execution_count": null,
   "metadata": {},
   "outputs": [],
   "source": []
  }
 ],
 "metadata": {
  "kernelspec": {
   "display_name": "Python 3",
   "language": "python",
   "name": "python3"
  },
  "language_info": {
   "codemirror_mode": {
    "name": "ipython",
    "version": 3
   },
   "file_extension": ".py",
   "mimetype": "text/x-python",
   "name": "python",
   "nbconvert_exporter": "python",
   "pygments_lexer": "ipython3",
   "version": "3.8.5"
  }
 },
 "nbformat": 4,
 "nbformat_minor": 4
}
